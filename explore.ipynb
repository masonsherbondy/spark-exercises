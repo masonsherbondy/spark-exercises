{
 "cells": [
  {
   "cell_type": "markdown",
   "id": "e9a612a1",
   "metadata": {},
   "source": [
    "# Explore"
   ]
  },
  {
   "cell_type": "code",
   "execution_count": 1,
   "id": "f95c957c",
   "metadata": {},
   "outputs": [],
   "source": [
    "# This is the way.\n",
    "import numpy as np\n",
    "import pandas as pd\n",
    "import matplotlib.pyplot as plt\n",
    "import seaborn as sns\n",
    "\n",
    "import pyspark.sql\n",
    "from pyspark.sql.functions import *\n",
    "\n",
    "from swrangle import wrangle_311"
   ]
  },
  {
   "cell_type": "code",
   "execution_count": 2,
   "id": "77c48663",
   "metadata": {},
   "outputs": [],
   "source": [
    "# initiate sparks\n",
    "spark = pyspark.sql.SparkSession.builder.getOrCreate()"
   ]
  },
  {
   "cell_type": "code",
   "execution_count": 3,
   "id": "946eec97",
   "metadata": {},
   "outputs": [
    {
     "name": "stdout",
     "output_type": "stream",
     "text": [
      "[wrangle.py] reading case.csv\n",
      "[wrangle.py] handling data types\n",
      "[wrangle.py] parsing dates\n",
      "[wrangle.py] adding features\n",
      "[wrangle.py] joining departments\n",
      "\n",
      "df shape: (841704, 20)\n",
      "\n",
      "-RECORD 0------------------------------------\n",
      " case_id              | 1014127332           \n",
      " case_opened_date     | 2018-01-01 00:42:00  \n",
      " case_closed_date     | 2018-01-01 12:29:00  \n",
      " case_due_date        | 2020-09-26 00:42:00  \n",
      " case_late            | false                \n",
      " num_days_late        | -998.5087616000001   \n",
      " case_closed          | true                 \n",
      " service_request_type | Stray Animal         \n",
      " SLA_days             | 999.0                \n",
      " case_status          | Closed               \n",
      " source_id            | svcCRMLS             \n",
      " request_address      | 2315  EL PASO ST,... \n",
      " council_district     | 005                  \n",
      " num_weeks_late       | -142.6441088         \n",
      " zipcode              | 78207                \n",
      " case_age             | 219                  \n",
      " days_to_closed       | 0                    \n",
      " case_lifetime        | 0                    \n",
      " department           | Animal Care Services \n",
      " dept_subject_to_SLA  | true                 \n",
      "only showing top 1 row\n",
      "\n"
     ]
    }
   ],
   "source": [
    "df = wrangle_311(spark)\n",
    "print('\\ndf shape: (%d, %d)\\n' % (df.count(), len(df.columns)))\n",
    "df.show(1, vertical = True)"
   ]
  },
  {
   "cell_type": "markdown",
   "id": "312a038e",
   "metadata": {},
   "source": [
    "Exercises\n",
    "\n",
    "These exercises should go in a notebook or script named explore.\n",
    "\n",
    "Answer the questions below by using a combination of the techniques discussed in the lesson that you think is appropriate."
   ]
  },
  {
   "cell_type": "markdown",
   "id": "f7b0177f",
   "metadata": {},
   "source": [
    "How many different cases are there, by department?"
   ]
  },
  {
   "cell_type": "code",
   "execution_count": 4,
   "id": "1e36b958",
   "metadata": {},
   "outputs": [
    {
     "name": "stdout",
     "output_type": "stream",
     "text": [
      "+------------------------+------+----------------+-------------+\n",
      "|department              |count |total_percentage|total_percent|\n",
      "+------------------------+------+----------------+-------------+\n",
      "|Solid Waste             |279270|0.33179         |33.18%       |\n",
      "|Animal Care Services    |116915|0.1389          |13.89%       |\n",
      "|Trans & Cap Improvements|96193 |0.11428         |11.43%       |\n",
      "|Parks & Recreation      |19907 |0.02365         |2.37%        |\n",
      "|Customer Service        |2849  |0.00338         |0.34%        |\n",
      "|Metro Health            |5163  |0.00613         |0.61%        |\n",
      "|City Council            |33    |4.0E-5          |0.0%         |\n",
      "|DSD/Code Enforcement    |321374|0.38181         |38.18%       |\n",
      "+------------------------+------+----------------+-------------+\n",
      "\n"
     ]
    }
   ],
   "source": [
    "# group by department, count records\\ produce raw percentage column\\ produce string percentage column\\show()\n",
    "df.groupby('department').count()\\\n",
    ".withColumn('total_percentage', round(col('count') / df.count(), 5))\\\n",
    ".withColumn('total_percent', concat(round((col('count') / df.count()) * 100, 2), lit('%')))\\\n",
    ".show(truncate = False)"
   ]
  },
  {
   "cell_type": "code",
   "execution_count": 5,
   "id": "15107344",
   "metadata": {},
   "outputs": [
    {
     "name": "stdout",
     "output_type": "stream",
     "text": [
      "+--------------------+------+----------------+-------------+\n",
      "|          department| count|total_percentage|total_percent|\n",
      "+--------------------+------+----------------+-------------+\n",
      "|         Solid Waste|279270|         0.33179|       33.18%|\n",
      "|Animal Care Services|116915|          0.1389|       13.89%|\n",
      "|Trans & Cap Impro...| 96193|         0.11428|       11.43%|\n",
      "|  Parks & Recreation| 19907|         0.02365|        2.37%|\n",
      "|    Customer Service|  2849|         0.00338|        0.34%|\n",
      "|        Metro Health|  5163|         0.00613|        0.61%|\n",
      "|        City Council|    33|          4.0E-5|         0.0%|\n",
      "|DSD/Code Enforcement|321374|         0.38181|       38.18%|\n",
      "+--------------------+------+----------------+-------------+\n",
      "\n"
     ]
    }
   ],
   "source": [
    "# group by department, count records\\ produce raw percentage column\\ produce string percentage column\\show()\n",
    "df.groupby('department').count()\\\n",
    ".withColumn('total_percentage', round(col('count') / df.count(), 5))\\\n",
    ".withColumn('total_percent', concat(round((col('count') / df.count()) * 100, 2), lit('%')))\\\n",
    ".show()"
   ]
  },
  {
   "cell_type": "code",
   "execution_count": 6,
   "id": "a37fd49a",
   "metadata": {},
   "outputs": [
    {
     "data": {
      "text/html": [
       "<div>\n",
       "<style scoped>\n",
       "    .dataframe tbody tr th:only-of-type {\n",
       "        vertical-align: middle;\n",
       "    }\n",
       "\n",
       "    .dataframe tbody tr th {\n",
       "        vertical-align: top;\n",
       "    }\n",
       "\n",
       "    .dataframe thead th {\n",
       "        text-align: right;\n",
       "    }\n",
       "</style>\n",
       "<table border=\"1\" class=\"dataframe\">\n",
       "  <thead>\n",
       "    <tr style=\"text-align: right;\">\n",
       "      <th></th>\n",
       "      <th>count</th>\n",
       "      <th>percentage</th>\n",
       "      <th>percent</th>\n",
       "    </tr>\n",
       "    <tr>\n",
       "      <th>department</th>\n",
       "      <th></th>\n",
       "      <th></th>\n",
       "      <th></th>\n",
       "    </tr>\n",
       "  </thead>\n",
       "  <tbody>\n",
       "    <tr>\n",
       "      <th>Solid Waste</th>\n",
       "      <td>279270</td>\n",
       "      <td>0.33179</td>\n",
       "      <td>33.18%</td>\n",
       "    </tr>\n",
       "    <tr>\n",
       "      <th>Animal Care Services</th>\n",
       "      <td>116915</td>\n",
       "      <td>0.13890</td>\n",
       "      <td>13.89%</td>\n",
       "    </tr>\n",
       "    <tr>\n",
       "      <th>Trans &amp; Cap Improvements</th>\n",
       "      <td>96193</td>\n",
       "      <td>0.11428</td>\n",
       "      <td>11.43%</td>\n",
       "    </tr>\n",
       "    <tr>\n",
       "      <th>Parks &amp; Recreation</th>\n",
       "      <td>19907</td>\n",
       "      <td>0.02365</td>\n",
       "      <td>2.37%</td>\n",
       "    </tr>\n",
       "    <tr>\n",
       "      <th>Customer Service</th>\n",
       "      <td>2849</td>\n",
       "      <td>0.00338</td>\n",
       "      <td>0.34%</td>\n",
       "    </tr>\n",
       "    <tr>\n",
       "      <th>Metro Health</th>\n",
       "      <td>5163</td>\n",
       "      <td>0.00613</td>\n",
       "      <td>0.61%</td>\n",
       "    </tr>\n",
       "    <tr>\n",
       "      <th>City Council</th>\n",
       "      <td>33</td>\n",
       "      <td>0.00004</td>\n",
       "      <td>0.0%</td>\n",
       "    </tr>\n",
       "    <tr>\n",
       "      <th>DSD/Code Enforcement</th>\n",
       "      <td>321374</td>\n",
       "      <td>0.38181</td>\n",
       "      <td>38.18%</td>\n",
       "    </tr>\n",
       "  </tbody>\n",
       "</table>\n",
       "</div>"
      ],
      "text/plain": [
       "                           count  percentage percent\n",
       "department                                          \n",
       "Solid Waste               279270     0.33179  33.18%\n",
       "Animal Care Services      116915     0.13890  13.89%\n",
       "Trans & Cap Improvements   96193     0.11428  11.43%\n",
       "Parks & Recreation         19907     0.02365   2.37%\n",
       "Customer Service            2849     0.00338   0.34%\n",
       "Metro Health                5163     0.00613   0.61%\n",
       "City Council                  33     0.00004    0.0%\n",
       "DSD/Code Enforcement      321374     0.38181  38.18%"
      ]
     },
     "execution_count": 6,
     "metadata": {},
     "output_type": "execute_result"
    }
   ],
   "source": [
    "# assign above spark manipulation converted-to-pandas to a variable\n",
    "the_pandas_dataframe_we_know_and_love_lol = df.groupBy('department').count()\\\n",
    ".withColumn('percentage', round(col('count') / df.count(), 5))\\\n",
    ".withColumn('percent', concat(round((col('count') / df.count()) * 100, 2), lit('%')))\\\n",
    ".toPandas()\\\n",
    ".set_index('department')\n",
    "\n",
    "# Nice one, Ravinder\n",
    "the_pandas_dataframe_we_know_and_love_lol"
   ]
  },
  {
   "cell_type": "code",
   "execution_count": 7,
   "id": "b65ba0d6",
   "metadata": {},
   "outputs": [
    {
     "data": {
      "image/png": "[encoded data removed]",
      "text/plain": [
       "<Figure size 1224x432 with 1 Axes>"
      ]
     },
     "metadata": {
      "needs_background": "light"
     },
     "output_type": "display_data"
    }
   ],
   "source": [
    "# plot cases per department\n",
    "df.groupby('department').count()\\\n",
    ".toPandas()\\\n",
    ".set_index('department')['count']\\\n",
    ".sort_values(ascending = False)\\\n",
    ".plot.barh(color = 'darkslategrey', edgecolor = 'black', width = .999999, figsize = (17, 6))\n",
    "\n",
    "plt.title('Number of Cases by Department', size = 16)\n",
    "plt.ylabel('')\n",
    "plt.xlabel('Case Frequency', size = 13);"
   ]
  },
  {
   "cell_type": "markdown",
   "id": "2f96e7b1",
   "metadata": {},
   "source": [
    "Does the percentage of cases that are late vary by department?"
   ]
  },
  {
   "cell_type": "code",
   "execution_count": 8,
   "id": "0ab84d26",
   "metadata": {},
   "outputs": [
    {
     "data": {
      "text/html": [
       "<div>\n",
       "<style scoped>\n",
       "    .dataframe tbody tr th:only-of-type {\n",
       "        vertical-align: middle;\n",
       "    }\n",
       "\n",
       "    .dataframe tbody tr th {\n",
       "        vertical-align: top;\n",
       "    }\n",
       "\n",
       "    .dataframe thead th {\n",
       "        text-align: right;\n",
       "    }\n",
       "</style>\n",
       "<table border=\"1\" class=\"dataframe\">\n",
       "  <thead>\n",
       "    <tr style=\"text-align: right;\">\n",
       "      <th></th>\n",
       "      <th>count(case_late)</th>\n",
       "      <th>ratio_total</th>\n",
       "      <th>percent_out_of_all_cases</th>\n",
       "    </tr>\n",
       "    <tr>\n",
       "      <th>department</th>\n",
       "      <th></th>\n",
       "      <th></th>\n",
       "      <th></th>\n",
       "    </tr>\n",
       "  </thead>\n",
       "  <tbody>\n",
       "    <tr>\n",
       "      <th>Solid Waste</th>\n",
       "      <td>32945</td>\n",
       "      <td>0.03914</td>\n",
       "      <td>3.91%</td>\n",
       "    </tr>\n",
       "    <tr>\n",
       "      <th>Animal Care Services</th>\n",
       "      <td>23276</td>\n",
       "      <td>0.02765</td>\n",
       "      <td>2.77%</td>\n",
       "    </tr>\n",
       "    <tr>\n",
       "      <th>Trans &amp; Cap Improvements</th>\n",
       "      <td>5411</td>\n",
       "      <td>0.00643</td>\n",
       "      <td>0.64%</td>\n",
       "    </tr>\n",
       "    <tr>\n",
       "      <th>Parks &amp; Recreation</th>\n",
       "      <td>3797</td>\n",
       "      <td>0.00451</td>\n",
       "      <td>0.45%</td>\n",
       "    </tr>\n",
       "    <tr>\n",
       "      <th>Customer Service</th>\n",
       "      <td>2010</td>\n",
       "      <td>0.00239</td>\n",
       "      <td>0.24%</td>\n",
       "    </tr>\n",
       "    <tr>\n",
       "      <th>Metro Health</th>\n",
       "      <td>829</td>\n",
       "      <td>0.00098</td>\n",
       "      <td>0.1%</td>\n",
       "    </tr>\n",
       "    <tr>\n",
       "      <th>DSD/Code Enforcement</th>\n",
       "      <td>26235</td>\n",
       "      <td>0.03117</td>\n",
       "      <td>3.12%</td>\n",
       "    </tr>\n",
       "  </tbody>\n",
       "</table>\n",
       "</div>"
      ],
      "text/plain": [
       "                          count(case_late)  ratio_total  \\\n",
       "department                                                \n",
       "Solid Waste                          32945      0.03914   \n",
       "Animal Care Services                 23276      0.02765   \n",
       "Trans & Cap Improvements              5411      0.00643   \n",
       "Parks & Recreation                    3797      0.00451   \n",
       "Customer Service                      2010      0.00239   \n",
       "Metro Health                           829      0.00098   \n",
       "DSD/Code Enforcement                 26235      0.03117   \n",
       "\n",
       "                         percent_out_of_all_cases  \n",
       "department                                         \n",
       "Solid Waste                                 3.91%  \n",
       "Animal Care Services                        2.77%  \n",
       "Trans & Cap Improvements                    0.64%  \n",
       "Parks & Recreation                          0.45%  \n",
       "Customer Service                            0.24%  \n",
       "Metro Health                                 0.1%  \n",
       "DSD/Code Enforcement                        3.12%  "
      ]
     },
     "execution_count": 8,
     "metadata": {},
     "output_type": "execute_result"
    }
   ],
   "source": [
    "# filter for cases that are late, group by department and aggregate counts on late cases\n",
    "agg1 = df.filter(df.case_late == True)\\\n",
    ".groupby('department')\\\n",
    ".agg(count('case_late'))\\\n",
    ".withColumn('ratio_total', round(col('count(case_late)') / df.count(), 5))\\\n",
    ".withColumn('percent_out_of_all_cases', concat(round((col('count(case_late)') / df.count()) * 100, 2), lit('%')))\\\n",
    ".toPandas()\\\n",
    ".set_index('department')\n",
    "\n",
    "agg1"
   ]
  },
  {
   "cell_type": "markdown",
   "id": "9561a33f",
   "metadata": {},
   "source": [
    "Yes, it looks like there is some variance at a glance. Proportionally?"
   ]
  },
  {
   "cell_type": "code",
   "execution_count": 9,
   "id": "1a75285a",
   "metadata": {},
   "outputs": [],
   "source": [
    "# assign variable to counts agg\n",
    "cases = df.groupby('department').count()\\\n",
    ".withColumn('total_ratio', round(col('count') / df.count(), 5))\\\n",
    ".withColumn('total_percent', concat(round((col('count') / df.count()) * 100, 2), lit('%')))\\\n",
    ".toPandas()\\\n",
    ".set_index('department')\n",
    "\n",
    "# assign variable to late case agg\n",
    "lates = df.filter(df.case_late == True)\\\n",
    ".groupby('department')\\\n",
    ".agg(count('case_late'))\\\n",
    ".withColumn('percent_out_of_all_cases', concat(round((col('count(case_late)') / df.count()) * 100, 2), lit('%')))\\\n",
    ".toPandas()\\\n",
    ".set_index('department')"
   ]
  },
  {
   "cell_type": "code",
   "execution_count": 10,
   "id": "998161b1",
   "metadata": {},
   "outputs": [
    {
     "data": {
      "text/html": [
       "<div>\n",
       "<style scoped>\n",
       "    .dataframe tbody tr th:only-of-type {\n",
       "        vertical-align: middle;\n",
       "    }\n",
       "\n",
       "    .dataframe tbody tr th {\n",
       "        vertical-align: top;\n",
       "    }\n",
       "\n",
       "    .dataframe thead th {\n",
       "        text-align: right;\n",
       "    }\n",
       "</style>\n",
       "<table border=\"1\" class=\"dataframe\">\n",
       "  <thead>\n",
       "    <tr style=\"text-align: right;\">\n",
       "      <th></th>\n",
       "      <th>count</th>\n",
       "      <th>total_ratio</th>\n",
       "      <th>total_percent</th>\n",
       "      <th>count(case_late)</th>\n",
       "      <th>percent_out_of_all_cases</th>\n",
       "    </tr>\n",
       "    <tr>\n",
       "      <th>department</th>\n",
       "      <th></th>\n",
       "      <th></th>\n",
       "      <th></th>\n",
       "      <th></th>\n",
       "      <th></th>\n",
       "    </tr>\n",
       "  </thead>\n",
       "  <tbody>\n",
       "    <tr>\n",
       "      <th>Solid Waste</th>\n",
       "      <td>279270</td>\n",
       "      <td>0.33179</td>\n",
       "      <td>33.18%</td>\n",
       "      <td>32945.0</td>\n",
       "      <td>3.91%</td>\n",
       "    </tr>\n",
       "    <tr>\n",
       "      <th>Animal Care Services</th>\n",
       "      <td>116915</td>\n",
       "      <td>0.13890</td>\n",
       "      <td>13.89%</td>\n",
       "      <td>23276.0</td>\n",
       "      <td>2.77%</td>\n",
       "    </tr>\n",
       "    <tr>\n",
       "      <th>Trans &amp; Cap Improvements</th>\n",
       "      <td>96193</td>\n",
       "      <td>0.11428</td>\n",
       "      <td>11.43%</td>\n",
       "      <td>5411.0</td>\n",
       "      <td>0.64%</td>\n",
       "    </tr>\n",
       "    <tr>\n",
       "      <th>Parks &amp; Recreation</th>\n",
       "      <td>19907</td>\n",
       "      <td>0.02365</td>\n",
       "      <td>2.37%</td>\n",
       "      <td>3797.0</td>\n",
       "      <td>0.45%</td>\n",
       "    </tr>\n",
       "    <tr>\n",
       "      <th>Customer Service</th>\n",
       "      <td>2849</td>\n",
       "      <td>0.00338</td>\n",
       "      <td>0.34%</td>\n",
       "      <td>2010.0</td>\n",
       "      <td>0.24%</td>\n",
       "    </tr>\n",
       "    <tr>\n",
       "      <th>Metro Health</th>\n",
       "      <td>5163</td>\n",
       "      <td>0.00613</td>\n",
       "      <td>0.61%</td>\n",
       "      <td>829.0</td>\n",
       "      <td>0.1%</td>\n",
       "    </tr>\n",
       "    <tr>\n",
       "      <th>City Council</th>\n",
       "      <td>33</td>\n",
       "      <td>0.00004</td>\n",
       "      <td>0.0%</td>\n",
       "      <td>NaN</td>\n",
       "      <td>NaN</td>\n",
       "    </tr>\n",
       "    <tr>\n",
       "      <th>DSD/Code Enforcement</th>\n",
       "      <td>321374</td>\n",
       "      <td>0.38181</td>\n",
       "      <td>38.18%</td>\n",
       "      <td>26235.0</td>\n",
       "      <td>3.12%</td>\n",
       "    </tr>\n",
       "  </tbody>\n",
       "</table>\n",
       "</div>"
      ],
      "text/plain": [
       "                           count  total_ratio total_percent  count(case_late)  \\\n",
       "department                                                                      \n",
       "Solid Waste               279270      0.33179        33.18%           32945.0   \n",
       "Animal Care Services      116915      0.13890        13.89%           23276.0   \n",
       "Trans & Cap Improvements   96193      0.11428        11.43%            5411.0   \n",
       "Parks & Recreation         19907      0.02365         2.37%            3797.0   \n",
       "Customer Service            2849      0.00338         0.34%            2010.0   \n",
       "Metro Health                5163      0.00613         0.61%             829.0   \n",
       "City Council                  33      0.00004          0.0%               NaN   \n",
       "DSD/Code Enforcement      321374      0.38181        38.18%           26235.0   \n",
       "\n",
       "                         percent_out_of_all_cases  \n",
       "department                                         \n",
       "Solid Waste                                 3.91%  \n",
       "Animal Care Services                        2.77%  \n",
       "Trans & Cap Improvements                    0.64%  \n",
       "Parks & Recreation                          0.45%  \n",
       "Customer Service                            0.24%  \n",
       "Metro Health                                 0.1%  \n",
       "City Council                                  NaN  \n",
       "DSD/Code Enforcement                        3.12%  "
      ]
     },
     "execution_count": 10,
     "metadata": {},
     "output_type": "execute_result"
    }
   ],
   "source": [
    "# use pandas to get bamboo sticks to go together on me n I get the banana\n",
    "cases_and_lates = pd.concat([cases, lates], axis = 1)\n",
    "cases_and_lates"
   ]
  },
  {
   "cell_type": "code",
   "execution_count": 11,
   "id": "20e8e449",
   "metadata": {},
   "outputs": [
    {
     "data": {
      "text/html": [
       "<div>\n",
       "<style scoped>\n",
       "    .dataframe tbody tr th:only-of-type {\n",
       "        vertical-align: middle;\n",
       "    }\n",
       "\n",
       "    .dataframe tbody tr th {\n",
       "        vertical-align: top;\n",
       "    }\n",
       "\n",
       "    .dataframe thead th {\n",
       "        text-align: right;\n",
       "    }\n",
       "</style>\n",
       "<table border=\"1\" class=\"dataframe\">\n",
       "  <thead>\n",
       "    <tr style=\"text-align: right;\">\n",
       "      <th></th>\n",
       "      <th>count</th>\n",
       "      <th>total_ratio</th>\n",
       "      <th>total_percent</th>\n",
       "      <th>count(case_late)</th>\n",
       "      <th>percent_out_of_all_cases</th>\n",
       "      <th>ratio_late</th>\n",
       "      <th>percent_late</th>\n",
       "    </tr>\n",
       "    <tr>\n",
       "      <th>department</th>\n",
       "      <th></th>\n",
       "      <th></th>\n",
       "      <th></th>\n",
       "      <th></th>\n",
       "      <th></th>\n",
       "      <th></th>\n",
       "      <th></th>\n",
       "    </tr>\n",
       "  </thead>\n",
       "  <tbody>\n",
       "    <tr>\n",
       "      <th>Solid Waste</th>\n",
       "      <td>279270</td>\n",
       "      <td>0.33179</td>\n",
       "      <td>33.18%</td>\n",
       "      <td>32945.0</td>\n",
       "      <td>3.91%</td>\n",
       "      <td>0.117968</td>\n",
       "      <td>11.796827</td>\n",
       "    </tr>\n",
       "    <tr>\n",
       "      <th>Animal Care Services</th>\n",
       "      <td>116915</td>\n",
       "      <td>0.13890</td>\n",
       "      <td>13.89%</td>\n",
       "      <td>23276.0</td>\n",
       "      <td>2.77%</td>\n",
       "      <td>0.199085</td>\n",
       "      <td>19.908481</td>\n",
       "    </tr>\n",
       "    <tr>\n",
       "      <th>Trans &amp; Cap Improvements</th>\n",
       "      <td>96193</td>\n",
       "      <td>0.11428</td>\n",
       "      <td>11.43%</td>\n",
       "      <td>5411.0</td>\n",
       "      <td>0.64%</td>\n",
       "      <td>0.056251</td>\n",
       "      <td>5.625149</td>\n",
       "    </tr>\n",
       "    <tr>\n",
       "      <th>Parks &amp; Recreation</th>\n",
       "      <td>19907</td>\n",
       "      <td>0.02365</td>\n",
       "      <td>2.37%</td>\n",
       "      <td>3797.0</td>\n",
       "      <td>0.45%</td>\n",
       "      <td>0.190737</td>\n",
       "      <td>19.073693</td>\n",
       "    </tr>\n",
       "    <tr>\n",
       "      <th>Customer Service</th>\n",
       "      <td>2849</td>\n",
       "      <td>0.00338</td>\n",
       "      <td>0.34%</td>\n",
       "      <td>2010.0</td>\n",
       "      <td>0.24%</td>\n",
       "      <td>0.705511</td>\n",
       "      <td>70.551071</td>\n",
       "    </tr>\n",
       "    <tr>\n",
       "      <th>Metro Health</th>\n",
       "      <td>5163</td>\n",
       "      <td>0.00613</td>\n",
       "      <td>0.61%</td>\n",
       "      <td>829.0</td>\n",
       "      <td>0.1%</td>\n",
       "      <td>0.160566</td>\n",
       "      <td>16.056556</td>\n",
       "    </tr>\n",
       "    <tr>\n",
       "      <th>City Council</th>\n",
       "      <td>33</td>\n",
       "      <td>0.00004</td>\n",
       "      <td>0.0%</td>\n",
       "      <td>NaN</td>\n",
       "      <td>NaN</td>\n",
       "      <td>NaN</td>\n",
       "      <td>NaN</td>\n",
       "    </tr>\n",
       "    <tr>\n",
       "      <th>DSD/Code Enforcement</th>\n",
       "      <td>321374</td>\n",
       "      <td>0.38181</td>\n",
       "      <td>38.18%</td>\n",
       "      <td>26235.0</td>\n",
       "      <td>3.12%</td>\n",
       "      <td>0.081634</td>\n",
       "      <td>8.163386</td>\n",
       "    </tr>\n",
       "  </tbody>\n",
       "</table>\n",
       "</div>"
      ],
      "text/plain": [
       "                           count  total_ratio total_percent  count(case_late)  \\\n",
       "department                                                                      \n",
       "Solid Waste               279270      0.33179        33.18%           32945.0   \n",
       "Animal Care Services      116915      0.13890        13.89%           23276.0   \n",
       "Trans & Cap Improvements   96193      0.11428        11.43%            5411.0   \n",
       "Parks & Recreation         19907      0.02365         2.37%            3797.0   \n",
       "Customer Service            2849      0.00338         0.34%            2010.0   \n",
       "Metro Health                5163      0.00613         0.61%             829.0   \n",
       "City Council                  33      0.00004          0.0%               NaN   \n",
       "DSD/Code Enforcement      321374      0.38181        38.18%           26235.0   \n",
       "\n",
       "                         percent_out_of_all_cases  ratio_late  percent_late  \n",
       "department                                                                   \n",
       "Solid Waste                                 3.91%    0.117968     11.796827  \n",
       "Animal Care Services                        2.77%    0.199085     19.908481  \n",
       "Trans & Cap Improvements                    0.64%    0.056251      5.625149  \n",
       "Parks & Recreation                          0.45%    0.190737     19.073693  \n",
       "Customer Service                            0.24%    0.705511     70.551071  \n",
       "Metro Health                                 0.1%    0.160566     16.056556  \n",
       "City Council                                  NaN         NaN           NaN  \n",
       "DSD/Code Enforcement                        3.12%    0.081634      8.163386  "
      ]
     },
     "execution_count": 11,
     "metadata": {},
     "output_type": "execute_result"
    }
   ],
   "source": [
    "cal = cases_and_lates    # make this easier on myself\n",
    "cal['ratio_late'] = cal['count(case_late)'] / cal['count']\n",
    "cal['percent_late'] = cal['count(case_late)'] / cal['count'] * 100   # get proportion of late cases by department\n",
    "# cal['percent_late'] = f\"{round(cal['count(case_late)'] / cal['count'] * 100, 2)}%\"\n",
    "cal    # view results"
   ]
  },
  {
   "cell_type": "code",
   "execution_count": 12,
   "id": "24d538bc",
   "metadata": {},
   "outputs": [
    {
     "data": {
      "text/html": [
       "<div>\n",
       "<style scoped>\n",
       "    .dataframe tbody tr th:only-of-type {\n",
       "        vertical-align: middle;\n",
       "    }\n",
       "\n",
       "    .dataframe tbody tr th {\n",
       "        vertical-align: top;\n",
       "    }\n",
       "\n",
       "    .dataframe thead th {\n",
       "        text-align: right;\n",
       "    }\n",
       "</style>\n",
       "<table border=\"1\" class=\"dataframe\">\n",
       "  <thead>\n",
       "    <tr style=\"text-align: right;\">\n",
       "      <th></th>\n",
       "      <th>cases</th>\n",
       "      <th>total_cases_ratio</th>\n",
       "      <th>percent_of_total_cases</th>\n",
       "      <th>late_cases</th>\n",
       "      <th>percent_late_of_all_cases</th>\n",
       "      <th>ratio_late</th>\n",
       "      <th>percent_late</th>\n",
       "    </tr>\n",
       "    <tr>\n",
       "      <th>department</th>\n",
       "      <th></th>\n",
       "      <th></th>\n",
       "      <th></th>\n",
       "      <th></th>\n",
       "      <th></th>\n",
       "      <th></th>\n",
       "      <th></th>\n",
       "    </tr>\n",
       "  </thead>\n",
       "  <tbody>\n",
       "    <tr>\n",
       "      <th>Solid Waste</th>\n",
       "      <td>279270</td>\n",
       "      <td>0.33179</td>\n",
       "      <td>33.18%</td>\n",
       "      <td>32945.0</td>\n",
       "      <td>3.91%</td>\n",
       "      <td>0.117968</td>\n",
       "      <td>11.796827</td>\n",
       "    </tr>\n",
       "    <tr>\n",
       "      <th>Animal Care Services</th>\n",
       "      <td>116915</td>\n",
       "      <td>0.13890</td>\n",
       "      <td>13.89%</td>\n",
       "      <td>23276.0</td>\n",
       "      <td>2.77%</td>\n",
       "      <td>0.199085</td>\n",
       "      <td>19.908481</td>\n",
       "    </tr>\n",
       "    <tr>\n",
       "      <th>Trans &amp; Cap Improvements</th>\n",
       "      <td>96193</td>\n",
       "      <td>0.11428</td>\n",
       "      <td>11.43%</td>\n",
       "      <td>5411.0</td>\n",
       "      <td>0.64%</td>\n",
       "      <td>0.056251</td>\n",
       "      <td>5.625149</td>\n",
       "    </tr>\n",
       "    <tr>\n",
       "      <th>Parks &amp; Recreation</th>\n",
       "      <td>19907</td>\n",
       "      <td>0.02365</td>\n",
       "      <td>2.37%</td>\n",
       "      <td>3797.0</td>\n",
       "      <td>0.45%</td>\n",
       "      <td>0.190737</td>\n",
       "      <td>19.073693</td>\n",
       "    </tr>\n",
       "    <tr>\n",
       "      <th>Customer Service</th>\n",
       "      <td>2849</td>\n",
       "      <td>0.00338</td>\n",
       "      <td>0.34%</td>\n",
       "      <td>2010.0</td>\n",
       "      <td>0.24%</td>\n",
       "      <td>0.705511</td>\n",
       "      <td>70.551071</td>\n",
       "    </tr>\n",
       "    <tr>\n",
       "      <th>Metro Health</th>\n",
       "      <td>5163</td>\n",
       "      <td>0.00613</td>\n",
       "      <td>0.61%</td>\n",
       "      <td>829.0</td>\n",
       "      <td>0.1%</td>\n",
       "      <td>0.160566</td>\n",
       "      <td>16.056556</td>\n",
       "    </tr>\n",
       "    <tr>\n",
       "      <th>City Council</th>\n",
       "      <td>33</td>\n",
       "      <td>0.00004</td>\n",
       "      <td>0.0%</td>\n",
       "      <td>NaN</td>\n",
       "      <td>NaN</td>\n",
       "      <td>NaN</td>\n",
       "      <td>NaN</td>\n",
       "    </tr>\n",
       "    <tr>\n",
       "      <th>DSD/Code Enforcement</th>\n",
       "      <td>321374</td>\n",
       "      <td>0.38181</td>\n",
       "      <td>38.18%</td>\n",
       "      <td>26235.0</td>\n",
       "      <td>3.12%</td>\n",
       "      <td>0.081634</td>\n",
       "      <td>8.163386</td>\n",
       "    </tr>\n",
       "  </tbody>\n",
       "</table>\n",
       "</div>"
      ],
      "text/plain": [
       "                           cases  total_cases_ratio percent_of_total_cases  \\\n",
       "department                                                                   \n",
       "Solid Waste               279270            0.33179                 33.18%   \n",
       "Animal Care Services      116915            0.13890                 13.89%   \n",
       "Trans & Cap Improvements   96193            0.11428                 11.43%   \n",
       "Parks & Recreation         19907            0.02365                  2.37%   \n",
       "Customer Service            2849            0.00338                  0.34%   \n",
       "Metro Health                5163            0.00613                  0.61%   \n",
       "City Council                  33            0.00004                   0.0%   \n",
       "DSD/Code Enforcement      321374            0.38181                 38.18%   \n",
       "\n",
       "                          late_cases percent_late_of_all_cases  ratio_late  \\\n",
       "department                                                                   \n",
       "Solid Waste                  32945.0                     3.91%    0.117968   \n",
       "Animal Care Services         23276.0                     2.77%    0.199085   \n",
       "Trans & Cap Improvements      5411.0                     0.64%    0.056251   \n",
       "Parks & Recreation            3797.0                     0.45%    0.190737   \n",
       "Customer Service              2010.0                     0.24%    0.705511   \n",
       "Metro Health                   829.0                      0.1%    0.160566   \n",
       "City Council                     NaN                       NaN         NaN   \n",
       "DSD/Code Enforcement         26235.0                     3.12%    0.081634   \n",
       "\n",
       "                          percent_late  \n",
       "department                              \n",
       "Solid Waste                  11.796827  \n",
       "Animal Care Services         19.908481  \n",
       "Trans & Cap Improvements      5.625149  \n",
       "Parks & Recreation           19.073693  \n",
       "Customer Service             70.551071  \n",
       "Metro Health                 16.056556  \n",
       "City Council                       NaN  \n",
       "DSD/Code Enforcement          8.163386  "
      ]
     },
     "execution_count": 12,
     "metadata": {},
     "output_type": "execute_result"
    }
   ],
   "source": [
    "cal.columns = ['cases', 'total_cases_ratio', 'percent_of_total_cases', 'late_cases', 'percent_late_of_all_cases', 'ratio_late', 'percent_late']\n",
    "cal"
   ]
  },
  {
   "cell_type": "code",
   "execution_count": 13,
   "id": "114ef434",
   "metadata": {},
   "outputs": [
    {
     "data": {
      "image/png": "[encoded data removed]",
      "text/plain": [
       "<Figure size 1224x432 with 1 Axes>"
      ]
     },
     "metadata": {
      "needs_background": "light"
     },
     "output_type": "display_data"
    }
   ],
   "source": [
    "# visualize frequency of late cases by department\n",
    "cal.late_cases.sort_values(ascending = False)\\\n",
    ".plot.barh(color = 'maroon', edgecolor = 'indigo', width = .9, figsize = (17, 6))\n",
    "\n",
    "# clarity\n",
    "plt.title('Late Cases by Department', size = 16)\n",
    "plt.xlabel('Late Case Count', size = 13)\n",
    "plt.ylabel('')\n",
    "plt.xticks([2500, 5000, 7500, 10000, 12500, 15000, 17500, 20000, 22500, 25000, 27500, 30000, 32500], size = 13)\n",
    "plt.yticks(size = 13);"
   ]
  },
  {
   "cell_type": "markdown",
   "id": "a98ed62a",
   "metadata": {},
   "source": [
    "### Percent of Late Cases by Department\n",
    "Out of the total number of cases in a department, these are the percentages of late cases.\n",
    "* Solid Waste: 11.8%\n",
    "* Animal Care Services: 19.9%\n",
    "* Trans & Cap Improvements: 5.6%\n",
    "* Parks & Recreation: 19.1%\n",
    "* Customer Service: 70.6%\n",
    "* Metro health: 16.1%\n",
    "* City Council: ZERO PERCENT\n",
    "* DSD/ Code Enforement: 8.2%"
   ]
  },
  {
   "cell_type": "code",
   "execution_count": 26,
   "id": "f2a36cbf",
   "metadata": {},
   "outputs": [
    {
     "data": {
      "image/png": "[encoded data removed]",
      "text/plain": [
       "<Figure size 1224x432 with 1 Axes>"
      ]
     },
     "metadata": {
      "needs_background": "light"
     },
     "output_type": "display_data"
    }
   ],
   "source": [
    "# visualize frequency of late cases by department\n",
    "cal.percent_late.sort_values(ascending = False)\\\n",
    ".plot.barh(color = 'black', edgecolor = 'indigo', width = .9, figsize = (17, 6))\n",
    "\n",
    "# clarity\n",
    "plt.title('% of Cases Late by Department', size = 16)\n",
    "plt.xlabel('Late Case Percentage', size = 13)\n",
    "plt.ylabel('')\n",
    "plt.yticks(size = 13);"
   ]
  },
  {
   "cell_type": "markdown",
   "id": "7c92701f",
   "metadata": {},
   "source": [
    "On average, how late are the late cases by department?"
   ]
  },
  {
   "cell_type": "code",
   "execution_count": 14,
   "id": "80a423f3",
   "metadata": {},
   "outputs": [
    {
     "name": "stdout",
     "output_type": "stream",
     "text": [
      "+------------------------+-------------+\n",
      "|department              |avg_days_late|\n",
      "+------------------------+-------------+\n",
      "|Solid Waste             |7.19         |\n",
      "|Animal Care Services    |23.46        |\n",
      "|Trans & Cap Improvements|10.6         |\n",
      "|Parks & Recreation      |22.35        |\n",
      "|Customer Service        |87.68        |\n",
      "|Metro Health            |6.54         |\n",
      "|DSD/Code Enforcement    |49.38        |\n",
      "+------------------------+-------------+\n",
      "\n"
     ]
    }
   ],
   "source": [
    "# filter for late cases, then group by department and get average length of tardiness\n",
    "df.filter(df.case_late == True)\\\n",
    ".groupby('department')\\\n",
    ".agg(round(mean('num_days_late'), 2).alias('avg_days_late'))\\\n",
    ".show(truncate = False)"
   ]
  },
  {
   "cell_type": "code",
   "execution_count": 20,
   "id": "78b3d41d",
   "metadata": {},
   "outputs": [
    {
     "data": {
      "image/png": "[encoded data removed]",
      "text/plain": [
       "<Figure size 1224x432 with 1 Axes>"
      ]
     },
     "metadata": {
      "needs_background": "light"
     },
     "output_type": "display_data"
    }
   ],
   "source": [
    "# convert spark frame to pandas frame for viz\n",
    "avg_late = df.filter(df.case_late == True)\\\n",
    ".groupby('department')\\\n",
    ".agg(round(mean('num_days_late'), 2).alias('avg_days_late'))\\\n",
    ".toPandas()\\\n",
    ".set_index('department')['avg_days_late']\\\n",
    ".sort_values(ascending = False)\n",
    "\n",
    "# visualize average days late by department\n",
    "avg_late.plot.barh(color = 'firebrick', edgecolor = 'indigo', width = .9, figsize = (17, 6))\n",
    "plt.title('Average Days Late by Department', size = 16)\n",
    "plt.ylabel('')\n",
    "plt.xlabel('Days Late on Average', size = 13)\n",
    "plt.xticks([5, 10, 15, 20, 25, 30, 35, 40, 45, 50, 55, 60, 65, 70, 75, 80, 85, 90, 95], size = 13)\n",
    "plt.yticks(size = 13);"
   ]
  },
  {
   "cell_type": "markdown",
   "id": "cf3ff293",
   "metadata": {},
   "source": [
    "What is the service type that is the most late? Just for Parks & Rec?"
   ]
  },
  {
   "cell_type": "code",
   "execution_count": null,
   "id": "a10a4824",
   "metadata": {},
   "outputs": [],
   "source": []
  },
  {
   "cell_type": "code",
   "execution_count": null,
   "id": "5fcf8390",
   "metadata": {},
   "outputs": [],
   "source": []
  },
  {
   "cell_type": "markdown",
   "id": "ac6dbc21",
   "metadata": {},
   "source": [
    "For the DSD/Code Enforcement department, what are the most common service request types? Look at other departments too."
   ]
  },
  {
   "cell_type": "code",
   "execution_count": null,
   "id": "d6396299",
   "metadata": {},
   "outputs": [],
   "source": []
  },
  {
   "cell_type": "code",
   "execution_count": null,
   "id": "1e69e1d8",
   "metadata": {},
   "outputs": [],
   "source": []
  },
  {
   "cell_type": "markdown",
   "id": "5102121e",
   "metadata": {},
   "source": [
    "Does whether or not its a weekend matter for when a case is opened/closed?"
   ]
  },
  {
   "cell_type": "code",
   "execution_count": null,
   "id": "3cd54f07",
   "metadata": {},
   "outputs": [],
   "source": []
  },
  {
   "cell_type": "code",
   "execution_count": null,
   "id": "4ab2dd5b",
   "metadata": {},
   "outputs": [],
   "source": []
  },
  {
   "cell_type": "markdown",
   "id": "bf19e844",
   "metadata": {},
   "source": [
    "On average, how many cases are opened a day for the Customer Service department?"
   ]
  },
  {
   "cell_type": "code",
   "execution_count": null,
   "id": "930fbdd0",
   "metadata": {},
   "outputs": [],
   "source": []
  },
  {
   "cell_type": "code",
   "execution_count": null,
   "id": "87a65b4d",
   "metadata": {},
   "outputs": [],
   "source": []
  },
  {
   "cell_type": "markdown",
   "id": "7ab226bf",
   "metadata": {},
   "source": [
    "Does the number of service requests for the solid waste department vary by day of the week?"
   ]
  },
  {
   "cell_type": "code",
   "execution_count": null,
   "id": "f0200276",
   "metadata": {},
   "outputs": [],
   "source": []
  },
  {
   "cell_type": "code",
   "execution_count": null,
   "id": "adccc246",
   "metadata": {},
   "outputs": [],
   "source": []
  }
 ],
 "metadata": {
  "kernelspec": {
   "display_name": "Python 3",
   "language": "python",
   "name": "python3"
  },
  "language_info": {
   "codemirror_mode": {
    "name": "ipython",
    "version": 3
   },
   "file_extension": ".py",
   "mimetype": "text/x-python",
   "name": "python",
   "nbconvert_exporter": "python",
   "pygments_lexer": "ipython3",
   "version": "3.8.8"
  }
 },
 "nbformat": 4,
 "nbformat_minor": 5
}
