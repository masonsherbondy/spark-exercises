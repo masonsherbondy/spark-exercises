{
 "cells": [
  {
   "cell_type": "markdown",
   "id": "f0bcfe08",
   "metadata": {},
   "source": [
    "# Spark API Exercises"
   ]
  },
  {
   "cell_type": "code",
   "execution_count": 1,
   "id": "9f3aaf16",
   "metadata": {},
   "outputs": [],
   "source": [
    "# imports\n",
    "import pyspark\n",
    "import pandas as pd\n",
    "import numpy as np\n",
    "\n",
    "from pyspark.sql.functions import *"
   ]
  },
  {
   "cell_type": "code",
   "execution_count": 2,
   "id": "66dbc83f",
   "metadata": {},
   "outputs": [],
   "source": [
    "# sparks fly\n",
    "spark = pyspark.sql.SparkSession.builder.getOrCreate()"
   ]
  },
  {
   "cell_type": "markdown",
   "id": "0332448f",
   "metadata": {},
   "source": [
    "# ------------------------------------------------------------------------\n",
    "## Exercise 1:\n",
    "\n",
    "Within your `codeup-data-science` directory, create a new repo named `spark-exercises`. This will be where you do your work for this module. Create a repository on GitHub with the same name, and link your local repository to GitHub.\n",
    "\n",
    "Save this work in your `spark-exercises` repo. Then add, commit, and push your changes.\n",
    "\n",
    "Create a jupyter notebook or python script named `spark101` for this exercise.\n",
    "\n",
    "Create a spark data frame that contains your favorite programming languages.\n",
    "\n",
    "- Create a dataframe with one column named `language`\n",
    "> Hint: Start with a pandas dataframe. Maybe use a dictionary?\n",
    "- View the schema of the dataframe\n",
    "- Output the shape of the dataframe\n",
    "- Show the first 5 records in the dataframe\n",
    "\n",
    "# ------------------------------------------------------------------------"
   ]
  },
  {
   "cell_type": "markdown",
   "id": "d80fef92",
   "metadata": {},
   "source": [
    "Create a dataframe with one column named `language`"
   ]
  },
  {
   "cell_type": "code",
   "execution_count": 3,
   "id": "a5924503",
   "metadata": {},
   "outputs": [
    {
     "data": {
      "text/html": [
       "<div>\n",
       "<style scoped>\n",
       "    .dataframe tbody tr th:only-of-type {\n",
       "        vertical-align: middle;\n",
       "    }\n",
       "\n",
       "    .dataframe tbody tr th {\n",
       "        vertical-align: top;\n",
       "    }\n",
       "\n",
       "    .dataframe thead th {\n",
       "        text-align: right;\n",
       "    }\n",
       "</style>\n",
       "<table border=\"1\" class=\"dataframe\">\n",
       "  <thead>\n",
       "    <tr style=\"text-align: right;\">\n",
       "      <th></th>\n",
       "      <th>language</th>\n",
       "      <th>studied</th>\n",
       "    </tr>\n",
       "  </thead>\n",
       "  <tbody>\n",
       "    <tr>\n",
       "      <th>0</th>\n",
       "      <td>python</td>\n",
       "      <td>yes</td>\n",
       "    </tr>\n",
       "    <tr>\n",
       "      <th>1</th>\n",
       "      <td>java</td>\n",
       "      <td>no</td>\n",
       "    </tr>\n",
       "    <tr>\n",
       "      <th>2</th>\n",
       "      <td>html</td>\n",
       "      <td>no</td>\n",
       "    </tr>\n",
       "    <tr>\n",
       "      <th>3</th>\n",
       "      <td>c</td>\n",
       "      <td>no</td>\n",
       "    </tr>\n",
       "    <tr>\n",
       "      <th>4</th>\n",
       "      <td>r</td>\n",
       "      <td>no</td>\n",
       "    </tr>\n",
       "    <tr>\n",
       "      <th>5</th>\n",
       "      <td>php</td>\n",
       "      <td>no</td>\n",
       "    </tr>\n",
       "    <tr>\n",
       "      <th>6</th>\n",
       "      <td>scala</td>\n",
       "      <td>no</td>\n",
       "    </tr>\n",
       "  </tbody>\n",
       "</table>\n",
       "</div>"
      ],
      "text/plain": [
       "  language studied\n",
       "0   python     yes\n",
       "1     java      no\n",
       "2     html      no\n",
       "3        c      no\n",
       "4        r      no\n",
       "5      php      no\n",
       "6    scala      no"
      ]
     },
     "execution_count": 3,
     "metadata": {},
     "output_type": "execute_result"
    }
   ],
   "source": [
    "# create pandas dataframe\n",
    "languages = pd.DataFrame(dict(language = ['python', 'java', 'html', 'c', 'r', 'php', 'scala'],\n",
    "                            studied = ['yes', 'no', 'no', 'no', 'no', 'no', 'no'])\n",
    "                        )\n",
    "# a look at the dataframe\n",
    "languages"
   ]
  },
  {
   "cell_type": "code",
   "execution_count": 4,
   "id": "eaa988c5",
   "metadata": {},
   "outputs": [
    {
     "data": {
      "text/plain": [
       "DataFrame[language: string, studied: string]"
      ]
     },
     "execution_count": 4,
     "metadata": {},
     "output_type": "execute_result"
    }
   ],
   "source": [
    "# create spark dataframe from pandas dataframe\n",
    "df = spark.createDataFrame(languages)\n",
    "\n",
    "# view dataframe columns and datatypes\n",
    "df"
   ]
  },
  {
   "cell_type": "markdown",
   "id": "15ef06d2",
   "metadata": {},
   "source": [
    "View the schema of the dataframe"
   ]
  },
  {
   "cell_type": "code",
   "execution_count": 5,
   "id": "2499ac95",
   "metadata": {},
   "outputs": [
    {
     "name": "stdout",
     "output_type": "stream",
     "text": [
      "root\n",
      " |-- language: string (nullable = true)\n",
      " |-- studied: string (nullable = true)\n",
      "\n"
     ]
    }
   ],
   "source": [
    "# view dataframe schema\n",
    "df.printSchema()"
   ]
  },
  {
   "cell_type": "markdown",
   "id": "9694e625",
   "metadata": {},
   "source": [
    "Ouput the shape of the dataframe"
   ]
  },
  {
   "cell_type": "code",
   "execution_count": 6,
   "id": "ab232e96",
   "metadata": {},
   "outputs": [
    {
     "name": "stdout",
     "output_type": "stream",
     "text": [
      "DataFrame shape:  7  x  2\n"
     ]
    }
   ],
   "source": [
    "print('DataFrame shape: ', df.count(), ' x ', len(df.columns))"
   ]
  },
  {
   "cell_type": "markdown",
   "id": "38985c5d",
   "metadata": {},
   "source": [
    "Show the first five records in the dataframe"
   ]
  },
  {
   "cell_type": "code",
   "execution_count": 7,
   "id": "a1be6108",
   "metadata": {},
   "outputs": [
    {
     "name": "stdout",
     "output_type": "stream",
     "text": [
      "+--------+-------+\n",
      "|language|studied|\n",
      "+--------+-------+\n",
      "|  python|    yes|\n",
      "|    java|     no|\n",
      "|    html|     no|\n",
      "|       c|     no|\n",
      "|       r|     no|\n",
      "+--------+-------+\n",
      "only showing top 5 rows\n",
      "\n"
     ]
    }
   ],
   "source": [
    "# show first five records of dataframe\n",
    "df.show(5)"
   ]
  },
  {
   "cell_type": "markdown",
   "id": "fe9dd5c9",
   "metadata": {},
   "source": [
    "# ------------------------------------------------------------------------\n",
    "## Exercise 2:\n",
    "\n",
    "Load the `mpg` dataset as a spark dataframe.\n",
    "\n",
    "a. Create 1 column of output that contains a message like the one below for each record:\n",
    "\n",
    "    The 1999 audi a4 has a 4 cylinder engine.\n",
    "\n",
    "> Hint: You will need to concatenate values that already exist in the data with string literals\n",
    "\n",
    "b. Transform the trans column so that it only contains either manual or auto.\n",
    "\n",
    "> Hint: Consider spark string methods and `when().otherwise()` chaining\n",
    "# ------------------------------------------------------------------------"
   ]
  },
  {
   "cell_type": "code",
   "execution_count": 8,
   "id": "7777173d",
   "metadata": {},
   "outputs": [
    {
     "name": "stdout",
     "output_type": "stream",
     "text": [
      "+------------+------------------+-----+----+---+----------+---+---+---+---+-------+\n",
      "|manufacturer|             model|displ|year|cyl|     trans|drv|cty|hwy| fl|  class|\n",
      "+------------+------------------+-----+----+---+----------+---+---+---+---+-------+\n",
      "|        audi|                a4|  1.8|1999|  4|  auto(l5)|  f| 18| 29|  p|compact|\n",
      "|        audi|                a4|  1.8|1999|  4|manual(m5)|  f| 21| 29|  p|compact|\n",
      "|        audi|                a4|  2.0|2008|  4|manual(m6)|  f| 20| 31|  p|compact|\n",
      "|        audi|                a4|  2.0|2008|  4|  auto(av)|  f| 21| 30|  p|compact|\n",
      "|        audi|                a4|  2.8|1999|  6|  auto(l5)|  f| 16| 26|  p|compact|\n",
      "|        audi|                a4|  2.8|1999|  6|manual(m5)|  f| 18| 26|  p|compact|\n",
      "|        audi|                a4|  3.1|2008|  6|  auto(av)|  f| 18| 27|  p|compact|\n",
      "|        audi|        a4 quattro|  1.8|1999|  4|manual(m5)|  4| 18| 26|  p|compact|\n",
      "|        audi|        a4 quattro|  1.8|1999|  4|  auto(l5)|  4| 16| 25|  p|compact|\n",
      "|        audi|        a4 quattro|  2.0|2008|  4|manual(m6)|  4| 20| 28|  p|compact|\n",
      "|        audi|        a4 quattro|  2.0|2008|  4|  auto(s6)|  4| 19| 27|  p|compact|\n",
      "|        audi|        a4 quattro|  2.8|1999|  6|  auto(l5)|  4| 15| 25|  p|compact|\n",
      "|        audi|        a4 quattro|  2.8|1999|  6|manual(m5)|  4| 17| 25|  p|compact|\n",
      "|        audi|        a4 quattro|  3.1|2008|  6|  auto(s6)|  4| 17| 25|  p|compact|\n",
      "|        audi|        a4 quattro|  3.1|2008|  6|manual(m6)|  4| 15| 25|  p|compact|\n",
      "|        audi|        a6 quattro|  2.8|1999|  6|  auto(l5)|  4| 15| 24|  p|midsize|\n",
      "|        audi|        a6 quattro|  3.1|2008|  6|  auto(s6)|  4| 17| 25|  p|midsize|\n",
      "|        audi|        a6 quattro|  4.2|2008|  8|  auto(s6)|  4| 16| 23|  p|midsize|\n",
      "|   chevrolet|c1500 suburban 2wd|  5.3|2008|  8|  auto(l4)|  r| 14| 20|  r|    suv|\n",
      "|   chevrolet|c1500 suburban 2wd|  5.3|2008|  8|  auto(l4)|  r| 11| 15|  e|    suv|\n",
      "+------------+------------------+-----+----+---+----------+---+---+---+---+-------+\n",
      "only showing top 20 rows\n",
      "\n"
     ]
    }
   ],
   "source": [
    "from pydataset import data\n",
    "mpg = spark.createDataFrame(data('mpg'))\n",
    "mpg.show()"
   ]
  },
  {
   "cell_type": "code",
   "execution_count": 9,
   "id": "af641fe3",
   "metadata": {},
   "outputs": [
    {
     "name": "stdout",
     "output_type": "stream",
     "text": [
      "root\n",
      " |-- manufacturer: string (nullable = true)\n",
      " |-- model: string (nullable = true)\n",
      " |-- displ: double (nullable = true)\n",
      " |-- year: long (nullable = true)\n",
      " |-- cyl: long (nullable = true)\n",
      " |-- trans: string (nullable = true)\n",
      " |-- drv: string (nullable = true)\n",
      " |-- cty: long (nullable = true)\n",
      " |-- hwy: long (nullable = true)\n",
      " |-- fl: string (nullable = true)\n",
      " |-- class: string (nullable = true)\n",
      "\n"
     ]
    }
   ],
   "source": [
    "# view columns and data types\n",
    "mpg.printSchema()"
   ]
  },
  {
   "cell_type": "markdown",
   "id": "436f1881",
   "metadata": {},
   "source": [
    "a. Create 1 column of output that contains a message like the one below for each record:\n",
    "\n",
    "    The 1999 audi a4 has a 4 cylinder engine."
   ]
  },
  {
   "cell_type": "code",
   "execution_count": 10,
   "id": "e818d046",
   "metadata": {},
   "outputs": [
    {
     "name": "stdout",
     "output_type": "stream",
     "text": [
      "+-------------------------------------------------+\n",
      "|summary_description                              |\n",
      "+-------------------------------------------------+\n",
      "|The 1999 audi a4 has a 4 cylinder engine.        |\n",
      "|The 1999 audi a4 has a 4 cylinder engine.        |\n",
      "|The 2008 audi a4 has a 4 cylinder engine.        |\n",
      "|The 2008 audi a4 has a 4 cylinder engine.        |\n",
      "|The 1999 audi a4 has a 6 cylinder engine.        |\n",
      "|The 1999 audi a4 has a 6 cylinder engine.        |\n",
      "|The 2008 audi a4 has a 6 cylinder engine.        |\n",
      "|The 1999 audi a4 quattro has a 4 cylinder engine.|\n",
      "|The 1999 audi a4 quattro has a 4 cylinder engine.|\n",
      "|The 2008 audi a4 quattro has a 4 cylinder engine.|\n",
      "|The 2008 audi a4 quattro has a 4 cylinder engine.|\n",
      "+-------------------------------------------------+\n",
      "only showing top 11 rows\n",
      "\n"
     ]
    }
   ],
   "source": [
    "# write out pyspark concatenation of literal (lit) strings and column (col) values\n",
    "mpg.select(concat(lit('The '),\n",
    "                  col('year'),\n",
    "                  lit(' '),\n",
    "                  col('manufacturer'),\n",
    "                  lit(' '),\n",
    "                  col('model'),\n",
    "                  lit(' has a '), \n",
    "                  col('cyl'),\n",
    "                  lit(' cylinder engine.')\n",
    "                 ).alias('summary_description')\n",
    "          ).\\\n",
    "show(11, truncate = False)"
   ]
  },
  {
   "cell_type": "markdown",
   "id": "f2d37781",
   "metadata": {},
   "source": [
    "b. Transform the trans column so that it only contains either manual or auto.\n",
    "\n",
    "> Hint: Consider spark string methods and `when().otherwise()` chaining"
   ]
  },
  {
   "cell_type": "code",
   "execution_count": 11,
   "id": "4a1c2ca7",
   "metadata": {},
   "outputs": [
    {
     "name": "stdout",
     "output_type": "stream",
     "text": [
      "+------------+-----+-----+----+---+----------+---+---+---+---+-------+\n",
      "|manufacturer|model|displ|year|cyl|     trans|drv|cty|hwy| fl|  class|\n",
      "+------------+-----+-----+----+---+----------+---+---+---+---+-------+\n",
      "|        audi|   a4|  1.8|1999|  4|  auto(l5)|  f| 18| 29|  p|compact|\n",
      "|        audi|   a4|  1.8|1999|  4|manual(m5)|  f| 21| 29|  p|compact|\n",
      "+------------+-----+-----+----+---+----------+---+---+---+---+-------+\n",
      "only showing top 2 rows\n",
      "\n"
     ]
    }
   ],
   "source": [
    "# review dataframe\n",
    "mpg.show(2)"
   ]
  },
  {
   "cell_type": "code",
   "execution_count": 12,
   "id": "6ea1b962",
   "metadata": {},
   "outputs": [],
   "source": [
    "# register mpg table with spark\n",
    "mpg.createOrReplaceTempView('mpg')"
   ]
  },
  {
   "cell_type": "code",
   "execution_count": 13,
   "id": "0cf2c000",
   "metadata": {},
   "outputs": [
    {
     "name": "stdout",
     "output_type": "stream",
     "text": [
      "+------------+------------------+-----+---+-----+---+---+---+---+-------+\n",
      "|manufacturer|             model|displ|cyl|trans|drv|cty|hwy| fl|  class|\n",
      "+------------+------------------+-----+---+-----+---+---+---+---+-------+\n",
      "|        audi|                a4|  1.8|  4| auto|  f| 18| 29|  p|compact|\n",
      "|        audi|                a4|  1.8|  4| manu|  f| 21| 29|  p|compact|\n",
      "|        audi|                a4|  2.0|  4| manu|  f| 20| 31|  p|compact|\n",
      "|        audi|                a4|  2.0|  4| auto|  f| 21| 30|  p|compact|\n",
      "|        audi|                a4|  2.8|  6| auto|  f| 16| 26|  p|compact|\n",
      "|        audi|                a4|  2.8|  6| manu|  f| 18| 26|  p|compact|\n",
      "|        audi|                a4|  3.1|  6| auto|  f| 18| 27|  p|compact|\n",
      "|        audi|        a4 quattro|  1.8|  4| manu|  4| 18| 26|  p|compact|\n",
      "|        audi|        a4 quattro|  1.8|  4| auto|  4| 16| 25|  p|compact|\n",
      "|        audi|        a4 quattro|  2.0|  4| manu|  4| 20| 28|  p|compact|\n",
      "|        audi|        a4 quattro|  2.0|  4| auto|  4| 19| 27|  p|compact|\n",
      "|        audi|        a4 quattro|  2.8|  6| auto|  4| 15| 25|  p|compact|\n",
      "|        audi|        a4 quattro|  2.8|  6| manu|  4| 17| 25|  p|compact|\n",
      "|        audi|        a4 quattro|  3.1|  6| auto|  4| 17| 25|  p|compact|\n",
      "|        audi|        a4 quattro|  3.1|  6| manu|  4| 15| 25|  p|compact|\n",
      "|        audi|        a6 quattro|  2.8|  6| auto|  4| 15| 24|  p|midsize|\n",
      "|        audi|        a6 quattro|  3.1|  6| auto|  4| 17| 25|  p|midsize|\n",
      "|        audi|        a6 quattro|  4.2|  8| auto|  4| 16| 23|  p|midsize|\n",
      "|   chevrolet|c1500 suburban 2wd|  5.3|  8| auto|  r| 14| 20|  r|    suv|\n",
      "|   chevrolet|c1500 suburban 2wd|  5.3|  8| auto|  r| 11| 15|  e|    suv|\n",
      "+------------+------------------+-----+---+-----+---+---+---+---+-------+\n",
      "only showing top 20 rows\n",
      "\n"
     ]
    }
   ],
   "source": [
    "# create mysql query to grab columns to fit needs\n",
    "mpg = spark.sql(\n",
    "'''\n",
    "SELECT manufacturer, model, displ, cyl, LEFT(trans, 4) as trans, drv, cty, hwy, fl, class\n",
    "FROM mpg\n",
    "''')\n",
    "mpg.show()"
   ]
  },
  {
   "cell_type": "code",
   "execution_count": 14,
   "id": "94b381ca",
   "metadata": {},
   "outputs": [
    {
     "name": "stdout",
     "output_type": "stream",
     "text": [
      "+------------+------------------+-----+---+-----+---+---+---+---+-------+\n",
      "|manufacturer|             model|displ|cyl|trans|drv|cty|hwy| fl|  class|\n",
      "+------------+------------------+-----+---+-----+---+---+---+---+-------+\n",
      "|        audi|                a4|  1.8|  4| auto|  f| 18| 29|  p|compact|\n",
      "|        audi|                a4|  1.8|  4| manu|  f| 21| 29|  p|compact|\n",
      "|        audi|                a4|  2.0|  4| manu|  f| 20| 31|  p|compact|\n",
      "|        audi|                a4|  2.0|  4| auto|  f| 21| 30|  p|compact|\n",
      "|        audi|                a4|  2.8|  6| auto|  f| 16| 26|  p|compact|\n",
      "|        audi|                a4|  2.8|  6| manu|  f| 18| 26|  p|compact|\n",
      "|        audi|                a4|  3.1|  6| auto|  f| 18| 27|  p|compact|\n",
      "|        audi|        a4 quattro|  1.8|  4| manu|  4| 18| 26|  p|compact|\n",
      "|        audi|        a4 quattro|  1.8|  4| auto|  4| 16| 25|  p|compact|\n",
      "|        audi|        a4 quattro|  2.0|  4| manu|  4| 20| 28|  p|compact|\n",
      "|        audi|        a4 quattro|  2.0|  4| auto|  4| 19| 27|  p|compact|\n",
      "|        audi|        a4 quattro|  2.8|  6| auto|  4| 15| 25|  p|compact|\n",
      "|        audi|        a4 quattro|  2.8|  6| manu|  4| 17| 25|  p|compact|\n",
      "|        audi|        a4 quattro|  3.1|  6| auto|  4| 17| 25|  p|compact|\n",
      "|        audi|        a4 quattro|  3.1|  6| manu|  4| 15| 25|  p|compact|\n",
      "|        audi|        a6 quattro|  2.8|  6| auto|  4| 15| 24|  p|midsize|\n",
      "|        audi|        a6 quattro|  3.1|  6| auto|  4| 17| 25|  p|midsize|\n",
      "|        audi|        a6 quattro|  4.2|  8| auto|  4| 16| 23|  p|midsize|\n",
      "|   chevrolet|c1500 suburban 2wd|  5.3|  8| auto|  r| 14| 20|  r|    suv|\n",
      "|   chevrolet|c1500 suburban 2wd|  5.3|  8| auto|  r| 11| 15|  e|    suv|\n",
      "+------------+------------------+-----+---+-----+---+---+---+---+-------+\n",
      "only showing top 20 rows\n",
      "\n"
     ]
    }
   ],
   "source": [
    "# test functionality\n",
    "mpg.select(col('*')).show()"
   ]
  },
  {
   "cell_type": "code",
   "execution_count": 15,
   "id": "ea2f5ed0",
   "metadata": {
    "scrolled": false
   },
   "outputs": [
    {
     "name": "stdout",
     "output_type": "stream",
     "text": [
      "+------+\n",
      "| trans|\n",
      "+------+\n",
      "|  auto|\n",
      "|manual|\n",
      "|manual|\n",
      "|  auto|\n",
      "|  auto|\n",
      "|manual|\n",
      "|  auto|\n",
      "|manual|\n",
      "|  auto|\n",
      "|manual|\n",
      "|  auto|\n",
      "|  auto|\n",
      "|manual|\n",
      "|  auto|\n",
      "|manual|\n",
      "|  auto|\n",
      "|  auto|\n",
      "|  auto|\n",
      "|  auto|\n",
      "|  auto|\n",
      "+------+\n",
      "only showing top 20 rows\n",
      "\n"
     ]
    }
   ],
   "source": [
    "# select trans column, and an aliased column of transmission, showing only 'automatic' or 'manual'\n",
    "mpg.select(when(mpg.trans == 'auto', 'auto')\n",
    "           .otherwise('manual')\n",
    "           .alias('trans')\n",
    "          )\\\n",
    ".show()"
   ]
  },
  {
   "cell_type": "code",
   "execution_count": 16,
   "id": "d2c62ccd",
   "metadata": {},
   "outputs": [],
   "source": [
    "# pull original complete table\n",
    "mpg = spark.createDataFrame(data('mpg'))"
   ]
  },
  {
   "cell_type": "code",
   "execution_count": 17,
   "id": "708d5e6c",
   "metadata": {},
   "outputs": [
    {
     "name": "stdout",
     "output_type": "stream",
     "text": [
      "+----------+------------+\n",
      "|     trans|transmission|\n",
      "+----------+------------+\n",
      "|  auto(l5)|   automatic|\n",
      "|manual(m5)|      manual|\n",
      "|manual(m6)|      manual|\n",
      "|  auto(av)|   automatic|\n",
      "|  auto(l5)|   automatic|\n",
      "|manual(m5)|      manual|\n",
      "|  auto(av)|   automatic|\n",
      "|manual(m5)|      manual|\n",
      "|  auto(l5)|   automatic|\n",
      "|manual(m6)|      manual|\n",
      "|  auto(s6)|   automatic|\n",
      "|  auto(l5)|   automatic|\n",
      "|manual(m5)|      manual|\n",
      "|  auto(s6)|   automatic|\n",
      "|manual(m6)|      manual|\n",
      "|  auto(l5)|   automatic|\n",
      "|  auto(s6)|   automatic|\n",
      "|  auto(s6)|   automatic|\n",
      "|  auto(l4)|   automatic|\n",
      "|  auto(l4)|   automatic|\n",
      "+----------+------------+\n",
      "only showing top 20 rows\n",
      "\n"
     ]
    }
   ],
   "source": [
    "# ALTERNATE SOLUTION\n",
    "mpg.select(mpg.trans,\n",
    "           when(length(mpg.trans) < 10, 'automatic')\n",
    "           .otherwise('manual')\n",
    "           .alias('transmission')\n",
    "          )\\\n",
    ".show()"
   ]
  },
  {
   "cell_type": "code",
   "execution_count": 18,
   "id": "c915a412",
   "metadata": {},
   "outputs": [
    {
     "name": "stdout",
     "output_type": "stream",
     "text": [
      "+------------+------------------+-----+---+------------+---+---+---+---+-------+\n",
      "|manufacturer|             model|displ|cyl|transmission|drv|cty|hwy| fl|  class|\n",
      "+------------+------------------+-----+---+------------+---+---+---+---+-------+\n",
      "|        audi|                a4|  1.8|  4|        auto|  f| 18| 29|  p|compact|\n",
      "|        audi|                a4|  1.8|  4|      manual|  f| 21| 29|  p|compact|\n",
      "|        audi|                a4|  2.0|  4|      manual|  f| 20| 31|  p|compact|\n",
      "|        audi|                a4|  2.0|  4|        auto|  f| 21| 30|  p|compact|\n",
      "|        audi|                a4|  2.8|  6|        auto|  f| 16| 26|  p|compact|\n",
      "|        audi|                a4|  2.8|  6|      manual|  f| 18| 26|  p|compact|\n",
      "|        audi|                a4|  3.1|  6|        auto|  f| 18| 27|  p|compact|\n",
      "|        audi|        a4 quattro|  1.8|  4|      manual|  4| 18| 26|  p|compact|\n",
      "|        audi|        a4 quattro|  1.8|  4|        auto|  4| 16| 25|  p|compact|\n",
      "|        audi|        a4 quattro|  2.0|  4|      manual|  4| 20| 28|  p|compact|\n",
      "|        audi|        a4 quattro|  2.0|  4|        auto|  4| 19| 27|  p|compact|\n",
      "|        audi|        a4 quattro|  2.8|  6|        auto|  4| 15| 25|  p|compact|\n",
      "|        audi|        a4 quattro|  2.8|  6|      manual|  4| 17| 25|  p|compact|\n",
      "|        audi|        a4 quattro|  3.1|  6|        auto|  4| 17| 25|  p|compact|\n",
      "|        audi|        a4 quattro|  3.1|  6|      manual|  4| 15| 25|  p|compact|\n",
      "|        audi|        a6 quattro|  2.8|  6|        auto|  4| 15| 24|  p|midsize|\n",
      "|        audi|        a6 quattro|  3.1|  6|        auto|  4| 17| 25|  p|midsize|\n",
      "|        audi|        a6 quattro|  4.2|  8|        auto|  4| 16| 23|  p|midsize|\n",
      "|   chevrolet|c1500 suburban 2wd|  5.3|  8|        auto|  r| 14| 20|  r|    suv|\n",
      "|   chevrolet|c1500 suburban 2wd|  5.3|  8|        auto|  r| 11| 15|  e|    suv|\n",
      "+------------+------------------+-----+---+------------+---+---+---+---+-------+\n",
      "only showing top 20 rows\n",
      "\n"
     ]
    }
   ],
   "source": [
    "# ALTERNATE SOLUTION ('transform' the trans column)\n",
    "mpg.select(mpg.manufacturer,\n",
    "           mpg.model,\n",
    "           mpg.displ,\n",
    "           mpg.cyl,\n",
    "           when(length(mpg.trans) < 10, 'auto')\n",
    "           .otherwise('manual')\n",
    "           .alias('transmission'),\n",
    "           mpg.drv,\n",
    "           mpg.cty,\n",
    "           mpg.hwy,\n",
    "           mpg.fl,\n",
    "           col('class')\n",
    "          )\\\n",
    ".show()"
   ]
  },
  {
   "cell_type": "markdown",
   "id": "5575aa97",
   "metadata": {},
   "source": [
    "# ------------------------------------------------------------------------\n",
    "## Exercise 3: \n",
    "\n",
    "Load the `tips` dataset as a spark dataframe.\n",
    "\n",
    "a. What percentage of observations are smokers?\n",
    "> Hint: `.groupBy()` and `.withColumn()` are useful functions here\n",
    "\n",
    "b. Create a column that contains the tip percentage\n",
    "> Hint: `.withColumn()` is useful here\n",
    "\n",
    "c. Calculate the average tip percentage for each combination of sex and smoker.\n",
    "> Hint: Chain additional functions off the answer to part b \n",
    "\n",
    "# ------------------------------------------------------------------------"
   ]
  },
  {
   "cell_type": "code",
   "execution_count": 19,
   "id": "eab104e0",
   "metadata": {},
   "outputs": [
    {
     "name": "stdout",
     "output_type": "stream",
     "text": [
      "+----------+----+------+------+---+------+----+\n",
      "|total_bill| tip|   sex|smoker|day|  time|size|\n",
      "+----------+----+------+------+---+------+----+\n",
      "|     16.99|1.01|Female|    No|Sun|Dinner|   2|\n",
      "|     10.34|1.66|  Male|    No|Sun|Dinner|   3|\n",
      "|     21.01| 3.5|  Male|    No|Sun|Dinner|   3|\n",
      "|     23.68|3.31|  Male|    No|Sun|Dinner|   2|\n",
      "|     24.59|3.61|Female|    No|Sun|Dinner|   4|\n",
      "|     25.29|4.71|  Male|    No|Sun|Dinner|   4|\n",
      "|      8.77| 2.0|  Male|    No|Sun|Dinner|   2|\n",
      "|     26.88|3.12|  Male|    No|Sun|Dinner|   4|\n",
      "|     15.04|1.96|  Male|    No|Sun|Dinner|   2|\n",
      "|     14.78|3.23|  Male|    No|Sun|Dinner|   2|\n",
      "|     10.27|1.71|  Male|    No|Sun|Dinner|   2|\n",
      "|     35.26| 5.0|Female|    No|Sun|Dinner|   4|\n",
      "|     15.42|1.57|  Male|    No|Sun|Dinner|   2|\n",
      "|     18.43| 3.0|  Male|    No|Sun|Dinner|   4|\n",
      "|     14.83|3.02|Female|    No|Sun|Dinner|   2|\n",
      "|     21.58|3.92|  Male|    No|Sun|Dinner|   2|\n",
      "|     10.33|1.67|Female|    No|Sun|Dinner|   3|\n",
      "|     16.29|3.71|  Male|    No|Sun|Dinner|   3|\n",
      "|     16.97| 3.5|Female|    No|Sun|Dinner|   3|\n",
      "|     20.65|3.35|  Male|    No|Sat|Dinner|   3|\n",
      "+----------+----+------+------+---+------+----+\n",
      "only showing top 20 rows\n",
      "\n"
     ]
    }
   ],
   "source": [
    "# create spark dataframe from tips data set and show top 20 rows\n",
    "tips = spark.createDataFrame(data('tips'))\n",
    "tips.show()"
   ]
  },
  {
   "cell_type": "code",
   "execution_count": 20,
   "id": "0997cb0d",
   "metadata": {},
   "outputs": [
    {
     "name": "stdout",
     "output_type": "stream",
     "text": [
      "root\n",
      " |-- total_bill: double (nullable = true)\n",
      " |-- tip: double (nullable = true)\n",
      " |-- sex: string (nullable = true)\n",
      " |-- smoker: string (nullable = true)\n",
      " |-- day: string (nullable = true)\n",
      " |-- time: string (nullable = true)\n",
      " |-- size: long (nullable = true)\n",
      "\n"
     ]
    }
   ],
   "source": [
    "# view dataframe schema\n",
    "tips.printSchema()"
   ]
  },
  {
   "cell_type": "code",
   "execution_count": 21,
   "id": "54a03bcd",
   "metadata": {},
   "outputs": [
    {
     "name": "stdout",
     "output_type": "stream",
     "text": [
      "DataFrame shape:  244  x  7\n"
     ]
    }
   ],
   "source": [
    "print('DataFrame shape: ', tips.count(), ' x ', len(tips.columns))"
   ]
  },
  {
   "cell_type": "markdown",
   "id": "60feb911",
   "metadata": {},
   "source": [
    "a. What percentage of observations are smokers?\n",
    "> Hint: `.groupBy()` and `.withColumn()` are useful functions here"
   ]
  },
  {
   "cell_type": "code",
   "execution_count": 22,
   "id": "90d5dfcb",
   "metadata": {},
   "outputs": [
    {
     "name": "stdout",
     "output_type": "stream",
     "text": [
      "+------+-----+\n",
      "|smoker|count|\n",
      "+------+-----+\n",
      "|  null|  244|\n",
      "|    No|  151|\n",
      "|   Yes|   93|\n",
      "+------+-----+\n",
      "\n"
     ]
    }
   ],
   "source": [
    "# get smoker fruit rollups\n",
    "tips.rollup('smoker').count().show()"
   ]
  },
  {
   "cell_type": "code",
   "execution_count": 23,
   "id": "6844904b",
   "metadata": {},
   "outputs": [
    {
     "name": "stdout",
     "output_type": "stream",
     "text": [
      "+------+-----+-------+\n",
      "|smoker|count|percent|\n",
      "+------+-----+-------+\n",
      "|  null|  244|  100.0|\n",
      "|    No|  151|   62.0|\n",
      "|   Yes|   93|   38.0|\n",
      "+------+-----+-------+\n",
      "\n"
     ]
    }
   ],
   "source": [
    "# get smoker fruit rollups with percentage\n",
    "tips.rollup('smoker').count().withColumn('percent',\n",
    "                                         round(col('count') / tips.count() * 100)\n",
    "                                        )\\\n",
    ".show()"
   ]
  },
  {
   "cell_type": "markdown",
   "id": "70086e9c",
   "metadata": {},
   "source": [
    "38% of observations are smokers."
   ]
  },
  {
   "cell_type": "markdown",
   "id": "12d4e815",
   "metadata": {},
   "source": [
    "b. Create a column that contains the tip percentage\n",
    "> Hint: `.withColumn()` is useful here"
   ]
  },
  {
   "cell_type": "code",
   "execution_count": 24,
   "id": "4a66e39f",
   "metadata": {},
   "outputs": [
    {
     "name": "stdout",
     "output_type": "stream",
     "text": [
      "+----------+----+------+------+---+------+----+-----------+\n",
      "|total_bill| tip|   sex|smoker|day|  time|size|tip_percent|\n",
      "+----------+----+------+------+---+------+----+-----------+\n",
      "|     16.99|1.01|Female|    No|Sun|Dinner|   2|      5.94%|\n",
      "|     10.34|1.66|  Male|    No|Sun|Dinner|   3|     16.05%|\n",
      "|     21.01| 3.5|  Male|    No|Sun|Dinner|   3|     16.66%|\n",
      "|     23.68|3.31|  Male|    No|Sun|Dinner|   2|     13.98%|\n",
      "|     24.59|3.61|Female|    No|Sun|Dinner|   4|     14.68%|\n",
      "|     25.29|4.71|  Male|    No|Sun|Dinner|   4|     18.62%|\n",
      "|      8.77| 2.0|  Male|    No|Sun|Dinner|   2|     22.81%|\n",
      "|     26.88|3.12|  Male|    No|Sun|Dinner|   4|     11.61%|\n",
      "|     15.04|1.96|  Male|    No|Sun|Dinner|   2|     13.03%|\n",
      "|     14.78|3.23|  Male|    No|Sun|Dinner|   2|     21.85%|\n",
      "|     10.27|1.71|  Male|    No|Sun|Dinner|   2|     16.65%|\n",
      "|     35.26| 5.0|Female|    No|Sun|Dinner|   4|     14.18%|\n",
      "|     15.42|1.57|  Male|    No|Sun|Dinner|   2|     10.18%|\n",
      "|     18.43| 3.0|  Male|    No|Sun|Dinner|   4|     16.28%|\n",
      "|     14.83|3.02|Female|    No|Sun|Dinner|   2|     20.36%|\n",
      "|     21.58|3.92|  Male|    No|Sun|Dinner|   2|     18.16%|\n",
      "|     10.33|1.67|Female|    No|Sun|Dinner|   3|     16.17%|\n",
      "|     16.29|3.71|  Male|    No|Sun|Dinner|   3|     22.77%|\n",
      "|     16.97| 3.5|Female|    No|Sun|Dinner|   3|     20.62%|\n",
      "|     20.65|3.35|  Male|    No|Sat|Dinner|   3|     16.22%|\n",
      "+----------+----+------+------+---+------+----+-----------+\n",
      "only showing top 20 rows\n",
      "\n"
     ]
    }
   ],
   "source": [
    "# produce og df supplemented w/ 'tip_percent' column, the concatenation of the rounded percentage and the '%' sign\n",
    "tips.withColumn('tip_percent', concat(round(tips.tip / tips.total_bill * 100, 2), lit('%'))).show()"
   ]
  },
  {
   "cell_type": "markdown",
   "id": "32e64d04",
   "metadata": {},
   "source": [
    "c. Calculate the average tip percentage for each combination of sex and smoker.\n",
    "> Hint: Chain additional functions off the answer to part b "
   ]
  },
  {
   "cell_type": "code",
   "execution_count": 25,
   "id": "8b30af5b",
   "metadata": {},
   "outputs": [
    {
     "name": "stdout",
     "output_type": "stream",
     "text": [
      "+------+-----+-----+\n",
      "|   sex|   No|  Yes|\n",
      "+------+-----+-----+\n",
      "|Female|15.69|18.22|\n",
      "|  Male|16.07|15.28|\n",
      "+------+-----+-----+\n",
      "\n"
     ]
    }
   ],
   "source": [
    "# produce tip percent column, then group by sex and pivot by smoker status, and aggregate by average tip percent values\n",
    "tips.withColumn('tip_percent', (tips.tip / tips.total_bill)\n",
    "               ).groupby('sex').pivot('smoker').agg(round(mean('tip_percent') * 100, 2))\\\n",
    ".show()"
   ]
  },
  {
   "cell_type": "markdown",
   "id": "48d45e4f",
   "metadata": {},
   "source": [
    "# ------------------------------------------------------------------------\n",
    "## Exercise 4:\n",
    "\n",
    "Use the seattle weather dataset referenced in the lesson to answer the questions below.\n",
    "\n",
    "- Convert the temperatures to fahrenheit.\n",
    "- Which month has the most rain, on average?\n",
    "- Which year was the windiest?\n",
    "- What is the most frequent type of weather in January?\n",
    "- What is the average high and low temperature on sunny days in July in 2013 and 2014?\n",
    "- What percentage of days were rainy in q3 of 2015?\n",
    "- For each year, find what percentage of days it rained (had non-zero precipitation)."
   ]
  },
  {
   "cell_type": "code",
   "execution_count": 26,
   "id": "a85c35ab",
   "metadata": {},
   "outputs": [
    {
     "name": "stdout",
     "output_type": "stream",
     "text": [
      "+----------+-------------+--------+--------+----+-------+\n",
      "|      date|precipitation|temp_max|temp_min|wind|weather|\n",
      "+----------+-------------+--------+--------+----+-------+\n",
      "|2012-01-01|          0.0|    12.8|     5.0| 4.7|drizzle|\n",
      "|2012-01-02|         10.9|    10.6|     2.8| 4.5|   rain|\n",
      "|2012-01-03|          0.8|    11.7|     7.2| 2.3|   rain|\n",
      "|2012-01-04|         20.3|    12.2|     5.6| 4.7|   rain|\n",
      "|2012-01-05|          1.3|     8.9|     2.8| 6.1|   rain|\n",
      "|2012-01-06|          2.5|     4.4|     2.2| 2.2|   rain|\n",
      "|2012-01-07|          0.0|     7.2|     2.8| 2.3|   rain|\n",
      "|2012-01-08|          0.0|    10.0|     2.8| 2.0|    sun|\n",
      "|2012-01-09|          4.3|     9.4|     5.0| 3.4|   rain|\n",
      "|2012-01-10|          1.0|     6.1|     0.6| 3.4|   rain|\n",
      "|2012-01-11|          0.0|     6.1|    -1.1| 5.1|    sun|\n",
      "|2012-01-12|          0.0|     6.1|    -1.7| 1.9|    sun|\n",
      "|2012-01-13|          0.0|     5.0|    -2.8| 1.3|    sun|\n",
      "|2012-01-14|          4.1|     4.4|     0.6| 5.3|   snow|\n",
      "|2012-01-15|          5.3|     1.1|    -3.3| 3.2|   snow|\n",
      "|2012-01-16|          2.5|     1.7|    -2.8| 5.0|   snow|\n",
      "|2012-01-17|          8.1|     3.3|     0.0| 5.6|   snow|\n",
      "|2012-01-18|         19.8|     0.0|    -2.8| 5.0|   snow|\n",
      "|2012-01-19|         15.2|    -1.1|    -2.8| 1.6|   snow|\n",
      "|2012-01-20|         13.5|     7.2|    -1.1| 2.3|   snow|\n",
      "+----------+-------------+--------+--------+----+-------+\n",
      "only showing top 20 rows\n",
      "\n"
     ]
    }
   ],
   "source": [
    "# import data\n",
    "from vega_datasets import data\n",
    "\n",
    "# get data into pandas dataframe and assign new column for string-type dates\n",
    "weather = data.seattle_weather().assign(date = lambda df: df.date.astype(str))\n",
    "\n",
    "# get pandas dataframe into spark dataframe\n",
    "weather = spark.createDataFrame(weather)\n",
    "\n",
    "# view dataframe\n",
    "weather.show()"
   ]
  },
  {
   "cell_type": "code",
   "execution_count": 27,
   "id": "987593aa",
   "metadata": {},
   "outputs": [
    {
     "name": "stdout",
     "output_type": "stream",
     "text": [
      "root\n",
      " |-- date: string (nullable = true)\n",
      " |-- precipitation: double (nullable = true)\n",
      " |-- temp_max: double (nullable = true)\n",
      " |-- temp_min: double (nullable = true)\n",
      " |-- wind: double (nullable = true)\n",
      " |-- weather: string (nullable = true)\n",
      "\n"
     ]
    }
   ],
   "source": [
    "weather.printSchema()"
   ]
  },
  {
   "cell_type": "code",
   "execution_count": 28,
   "id": "e45375dd",
   "metadata": {},
   "outputs": [
    {
     "name": "stdout",
     "output_type": "stream",
     "text": [
      "DataFrame shape:  1461  x  6\n"
     ]
    }
   ],
   "source": [
    "print('DataFrame shape: ', weather.count(), ' x ', len(weather.columns))"
   ]
  },
  {
   "cell_type": "markdown",
   "id": "051535c8",
   "metadata": {},
   "source": [
    "Convert the temperatures to Fahrenheit."
   ]
  },
  {
   "cell_type": "code",
   "execution_count": 29,
   "id": "cf824d50",
   "metadata": {},
   "outputs": [
    {
     "name": "stdout",
     "output_type": "stream",
     "text": [
      "+----------+-------------+--------+--------+----+-------+--------------+--------------+\n",
      "|      date|precipitation|temp_max|temp_min|wind|weather|max_fahrenheit|min_fahrenheit|\n",
      "+----------+-------------+--------+--------+----+-------+--------------+--------------+\n",
      "|2012-01-01|          0.0|    12.8|     5.0| 4.7|drizzle|         55.04|          41.0|\n",
      "|2012-01-02|         10.9|    10.6|     2.8| 4.5|   rain|         51.08|         37.04|\n",
      "|2012-01-03|          0.8|    11.7|     7.2| 2.3|   rain|         53.06|         44.96|\n",
      "|2012-01-04|         20.3|    12.2|     5.6| 4.7|   rain|         53.96|         42.08|\n",
      "|2012-01-05|          1.3|     8.9|     2.8| 6.1|   rain|         48.02|         37.04|\n",
      "|2012-01-06|          2.5|     4.4|     2.2| 2.2|   rain|         39.92|         35.96|\n",
      "|2012-01-07|          0.0|     7.2|     2.8| 2.3|   rain|         44.96|         37.04|\n",
      "|2012-01-08|          0.0|    10.0|     2.8| 2.0|    sun|          50.0|         37.04|\n",
      "|2012-01-09|          4.3|     9.4|     5.0| 3.4|   rain|         48.92|          41.0|\n",
      "|2012-01-10|          1.0|     6.1|     0.6| 3.4|   rain|         42.98|         33.08|\n",
      "|2012-01-11|          0.0|     6.1|    -1.1| 5.1|    sun|         42.98|         30.02|\n",
      "|2012-01-12|          0.0|     6.1|    -1.7| 1.9|    sun|         42.98|         28.94|\n",
      "|2012-01-13|          0.0|     5.0|    -2.8| 1.3|    sun|          41.0|         26.96|\n",
      "|2012-01-14|          4.1|     4.4|     0.6| 5.3|   snow|         39.92|         33.08|\n",
      "|2012-01-15|          5.3|     1.1|    -3.3| 3.2|   snow|         33.98|         26.06|\n",
      "|2012-01-16|          2.5|     1.7|    -2.8| 5.0|   snow|         35.06|         26.96|\n",
      "|2012-01-17|          8.1|     3.3|     0.0| 5.6|   snow|         37.94|          32.0|\n",
      "|2012-01-18|         19.8|     0.0|    -2.8| 5.0|   snow|          32.0|         26.96|\n",
      "|2012-01-19|         15.2|    -1.1|    -2.8| 1.6|   snow|         30.02|         26.96|\n",
      "|2012-01-20|         13.5|     7.2|    -1.1| 2.3|   snow|         44.96|         30.02|\n",
      "+----------+-------------+--------+--------+----+-------+--------------+--------------+\n",
      "only showing top 20 rows\n",
      "\n"
     ]
    }
   ],
   "source": [
    "# assign dataframe to dataframe supplemented w/ columns that represent max & min temps converted to fahrenheit\n",
    "weather = weather\\\n",
    ".withColumn('max_fahrenheit', round(weather.temp_max * 9 / 5 + 32, 2))\\\n",
    ".withColumn('min_fahrenheit', round(weather.temp_min * 9 / 5 + 32, 2))\n",
    "\n",
    "weather.show()    # show dataframe"
   ]
  },
  {
   "cell_type": "markdown",
   "id": "d7a0f145",
   "metadata": {},
   "source": [
    "Which month has the most rain, on average?"
   ]
  },
  {
   "cell_type": "code",
   "execution_count": 30,
   "id": "0ede73af",
   "metadata": {},
   "outputs": [
    {
     "name": "stdout",
     "output_type": "stream",
     "text": [
      "+-----+----+------------------+\n",
      "|month|year|       total_rains|\n",
      "+-----+----+------------------+\n",
      "|   12|2015| 284.5000000000001|\n",
      "|    3|2014|240.00000000000003|\n",
      "|   11|2015|             212.6|\n",
      "|   11|2012|             210.5|\n",
      "|    3|2012|             183.0|\n",
      "|   12|2012|             174.0|\n",
      "|    1|2012|173.29999999999998|\n",
      "|   10|2014|             171.5|\n",
      "|   10|2012|170.29999999999998|\n",
      "|    9|2013|156.79999999999998|\n",
      "|    2|2014|155.20000000000002|\n",
      "|    4|2013|149.60000000000002|\n",
      "|    2|2015|134.19999999999996|\n",
      "|   11|2014|             123.1|\n",
      "|   10|2015|122.39999999999998|\n",
      "|   12|2014|121.79999999999998|\n",
      "|    3|2015|113.49999999999997|\n",
      "|    4|2014|106.10000000000001|\n",
      "|    1|2013|105.69999999999997|\n",
      "|   11|2013|              96.3|\n",
      "+-----+----+------------------+\n",
      "only showing top 20 rows\n",
      "\n"
     ]
    }
   ],
   "source": [
    "# Get the year and month columns, group by month and then year for all combos, aggregate the \n",
    "# total precipitation for each combo and sort in descending order\n",
    "weather.withColumn('month', month('date'))\\\n",
    ".withColumn('year', year('date'))\\\n",
    ".groupBy('month', 'year')\\\n",
    ".agg(sum('precipitation').alias('total_rains'))\\\n",
    ".sort(col('total_rains').desc())\\\n",
    ".show()"
   ]
  },
  {
   "cell_type": "code",
   "execution_count": 31,
   "id": "0cb0db47",
   "metadata": {},
   "outputs": [
    {
     "data": {
      "text/plain": [
       "Row(month=11, average_rains=160.625)"
      ]
     },
     "execution_count": 31,
     "metadata": {},
     "output_type": "execute_result"
    }
   ],
   "source": [
    "# Get year and month columns, group by month and year for all combos, aggregate all precipitation for \n",
    "# each combo, then group by month and aggregate on average precipitation, sort in descending order and grab the \n",
    "# first record\n",
    "weather.withColumn('month', month('date'))\\\n",
    ".withColumn('year', year('date'))\\\n",
    ".groupBy('month', 'year')\\\n",
    ".agg(sum('precipitation').alias('total_rains'))\\\n",
    ".groupby('month')\\\n",
    ".agg(mean('total_rains').alias('average_rains'))\\\n",
    ".sort(col('average_rains').desc())\\\n",
    ".first()"
   ]
  },
  {
   "cell_type": "markdown",
   "id": "8cb33a4d",
   "metadata": {},
   "source": [
    "Which year was the windiest?"
   ]
  },
  {
   "cell_type": "code",
   "execution_count": 32,
   "id": "83d5ea46",
   "metadata": {},
   "outputs": [
    {
     "data": {
      "text/plain": [
       "[Row(year=2012, total_wind=1244.7),\n",
       " Row(year=2014, total_wind=1236.5000000000007),\n",
       " Row(year=2015, total_wind=1153.3000000000002)]"
      ]
     },
     "execution_count": 32,
     "metadata": {},
     "output_type": "execute_result"
    }
   ],
   "source": [
    "# Get year column, group by year, aggregate the sum of all wind values, sort in descending order and view the \n",
    "# first 3 records\n",
    "weather.withColumn('year', year('date'))\\\n",
    ".groupby('year')\\\n",
    ".agg(sum('wind').alias('total_wind'))\\\n",
    ".sort(col('total_wind').desc())\\\n",
    ".head(3)"
   ]
  },
  {
   "cell_type": "markdown",
   "id": "4b0764ba",
   "metadata": {},
   "source": [
    "2012 was the windiest year."
   ]
  },
  {
   "cell_type": "markdown",
   "id": "df009bc2",
   "metadata": {},
   "source": [
    "What is the most frequent type of weather in January?"
   ]
  },
  {
   "cell_type": "code",
   "execution_count": 33,
   "id": "e3ee7575",
   "metadata": {},
   "outputs": [
    {
     "name": "stdout",
     "output_type": "stream",
     "text": [
      "+-------+--------------+\n",
      "|weather|weather_counts|\n",
      "+-------+--------------+\n",
      "|    fog|            38|\n",
      "|   rain|            35|\n",
      "|    sun|            33|\n",
      "|drizzle|            10|\n",
      "|   snow|             8|\n",
      "+-------+--------------+\n",
      "\n"
     ]
    }
   ],
   "source": [
    "# Get a month column going, filter for january, group by weather and aggregate on counts of different weather types\n",
    "weather.withColumn('month' , month('date'))\\\n",
    ".filter(col('month') == 1)\\\n",
    ".groupby('weather')\\\n",
    ".agg(count('weather').alias('weather_counts'))\\\n",
    ".sort(col('weather_counts').desc())\\\n",
    ".show()"
   ]
  },
  {
   "cell_type": "markdown",
   "id": "ed2866f2",
   "metadata": {},
   "source": [
    "Fog is the most frequent weather type in January."
   ]
  },
  {
   "cell_type": "markdown",
   "id": "4eaacdb2",
   "metadata": {},
   "source": [
    "What is the average high and low temperature on sunny days in July in 2013 and 2014?"
   ]
  },
  {
   "cell_type": "code",
   "execution_count": 34,
   "id": "7bfebcb1",
   "metadata": {},
   "outputs": [
    {
     "name": "stdout",
     "output_type": "stream",
     "text": [
      "+----------+-------------+--------+--------+----+-------+--------------+--------------+---+-----+----+\n",
      "|      date|precipitation|temp_max|temp_min|wind|weather|max_fahrenheit|min_fahrenheit|day|month|year|\n",
      "+----------+-------------+--------+--------+----+-------+--------------+--------------+---+-----+----+\n",
      "|2012-01-01|          0.0|    12.8|     5.0| 4.7|drizzle|         55.04|          41.0|  1|    1|2012|\n",
      "|2012-01-02|         10.9|    10.6|     2.8| 4.5|   rain|         51.08|         37.04|  2|    1|2012|\n",
      "|2012-01-03|          0.8|    11.7|     7.2| 2.3|   rain|         53.06|         44.96|  3|    1|2012|\n",
      "|2012-01-04|         20.3|    12.2|     5.6| 4.7|   rain|         53.96|         42.08|  4|    1|2012|\n",
      "|2012-01-05|          1.3|     8.9|     2.8| 6.1|   rain|         48.02|         37.04|  5|    1|2012|\n",
      "+----------+-------------+--------+--------+----+-------+--------------+--------------+---+-----+----+\n",
      "only showing top 5 rows\n",
      "\n"
     ]
    }
   ],
   "source": [
    "# add day, month and year columns to reduce redundancy\n",
    "weather = weather.withColumn('day', dayofmonth('date')).withColumn('month', month('date')).withColumn('year', year('date'))\n",
    "weather.show(5)"
   ]
  },
  {
   "cell_type": "code",
   "execution_count": 35,
   "id": "1fd9a9c3",
   "metadata": {},
   "outputs": [
    {
     "name": "stdout",
     "output_type": "stream",
     "text": [
      "root\n",
      " |-- date: string (nullable = true)\n",
      " |-- precipitation: double (nullable = true)\n",
      " |-- temp_max: double (nullable = true)\n",
      " |-- temp_min: double (nullable = true)\n",
      " |-- wind: double (nullable = true)\n",
      " |-- weather: string (nullable = true)\n",
      " |-- max_fahrenheit: double (nullable = true)\n",
      " |-- min_fahrenheit: double (nullable = true)\n",
      " |-- day: integer (nullable = true)\n",
      " |-- month: integer (nullable = true)\n",
      " |-- year: integer (nullable = true)\n",
      "\n"
     ]
    }
   ],
   "source": [
    "# get supplemented df schema\n",
    "weather.printSchema()"
   ]
  },
  {
   "cell_type": "code",
   "execution_count": 36,
   "id": "99b18cb4",
   "metadata": {},
   "outputs": [
    {
     "name": "stdout",
     "output_type": "stream",
     "text": [
      "+-----------------+-----------------+\n",
      "|      highest_avg|       lowest_avg|\n",
      "+-----------------+-----------------+\n",
      "|80.29192307692308|57.52884615384615|\n",
      "+-----------------+-----------------+\n",
      "\n"
     ]
    }
   ],
   "source": [
    "# Filter results for only sunny days in July 2013 & 2014, aggregate average max and min temperatures\n",
    "weather.filter(weather.month == 7)\\\n",
    ".filter((weather.year < 2015) & (weather.year > 2012))\\\n",
    ".filter(weather.weather == 'sun')\\\n",
    ".agg(mean('max_fahrenheit').alias('highest_avg'),\n",
    "     mean('min_fahrenheit').alias('lowest_avg')\n",
    "    ).show()"
   ]
  },
  {
   "cell_type": "markdown",
   "id": "9274b7fd",
   "metadata": {},
   "source": [
    "For July's sunny days in 2013 and 2014, the highest average temperature was 80.3 degrees Fahrenheit, and the lowest average temperature was 57.5 degrees Fahrenheit."
   ]
  },
  {
   "cell_type": "markdown",
   "id": "4601a1b5",
   "metadata": {},
   "source": [
    "What percentage of days were rainy in q3 of 2015?"
   ]
  },
  {
   "cell_type": "code",
   "execution_count": 37,
   "id": "fac98436",
   "metadata": {},
   "outputs": [
    {
     "name": "stdout",
     "output_type": "stream",
     "text": [
      "+--------------------+\n",
      "|           avg(rain)|\n",
      "+--------------------+\n",
      "|0.021739130434782608|\n",
      "+--------------------+\n",
      "\n"
     ]
    }
   ],
   "source": [
    "# Filter results for July, August and September 2015 (3rd quarter), turn rain column into 1s and 0s, aggregate\n",
    "# by mean to get proportion of rainy days\n",
    "weather.filter(weather.year == 2015)\\\n",
    ".filter((weather.month == 7) | (weather.month == 8) | (weather.month == 9))\\\n",
    ".select(when(weather.weather == 'rain', 1).otherwise(0).alias('rain'))\\\n",
    ".agg(mean('rain'))\\\n",
    ".show()"
   ]
  },
  {
   "cell_type": "markdown",
   "id": "51a00d83",
   "metadata": {},
   "source": [
    "2.17% of days were rainy in quarter 3 of 2015"
   ]
  },
  {
   "cell_type": "markdown",
   "id": "56af3a92",
   "metadata": {},
   "source": [
    "For each year, find what percentage of days it rained (had non-zero precipitation)."
   ]
  },
  {
   "cell_type": "code",
   "execution_count": 38,
   "id": "ba9bbe38",
   "metadata": {},
   "outputs": [
    {
     "name": "stdout",
     "output_type": "stream",
     "text": [
      "+----+-------------+\n",
      "|year|percent_rainy|\n",
      "+----+-------------+\n",
      "|2012|        48.36|\n",
      "|2013|        41.64|\n",
      "|2014|         41.1|\n",
      "|2015|        39.45|\n",
      "+----+-------------+\n",
      "\n"
     ]
    }
   ],
   "source": [
    "# Select precipitation column, change any values greater than 0 in precipitation to 1 and the rest 0, select the\n",
    "# year column, group by the year, and then get proportions by aggregating on the mean of the new precipitation\n",
    "# column values\n",
    "weather.select(when(weather.precipitation > 0, 1).otherwise(0).alias('rainy'), weather.year)\\\n",
    ".groupby(weather.year)\\\n",
    ".agg(round(mean('rainy') * 100, 2).alias('percent_rainy'))\\\n",
    ".show()"
   ]
  }
 ],
 "metadata": {
  "kernelspec": {
   "display_name": "Python 3",
   "language": "python",
   "name": "python3"
  },
  "language_info": {
   "codemirror_mode": {
    "name": "ipython",
    "version": 3
   },
   "file_extension": ".py",
   "mimetype": "text/x-python",
   "name": "python",
   "nbconvert_exporter": "python",
   "pygments_lexer": "ipython3",
   "version": "3.8.8"
  }
 },
 "nbformat": 4,
 "nbformat_minor": 5
}
