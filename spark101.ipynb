{
 "cells": [
  {
   "cell_type": "markdown",
   "id": "0a201a6f",
   "metadata": {},
   "source": [
    "# Spark API Exercises"
   ]
  },
  {
   "cell_type": "code",
   "execution_count": 1,
   "id": "d07b4ea9",
   "metadata": {},
   "outputs": [],
   "source": [
    "# imports\n",
    "import pyspark\n",
    "import pandas as pd\n",
    "import numpy as np\n",
    "\n",
    "from pyspark.sql.functions import *"
   ]
  },
  {
   "cell_type": "code",
   "execution_count": 2,
   "id": "9fc6590c",
   "metadata": {},
   "outputs": [],
   "source": [
    "# sparks fly\n",
    "spark = pyspark.sql.SparkSession.builder.getOrCreate()"
   ]
  },
  {
   "cell_type": "markdown",
   "id": "a9bb9b5a",
   "metadata": {},
   "source": [
    "# ------------------------------------------------------------------------\n",
    "## Exercise 1:\n",
    "\n",
    "Within your `codeup-data-science` directory, create a new repo named `spark-exercises`. This will be where you do your work for this module. Create a repository on GitHub with the same name, and link your local repository to GitHub.\n",
    "\n",
    "Save this work in your `spark-exercises` repo. Then add, commit, and push your changes.\n",
    "\n",
    "Create a jupyter notebook or python script named `spark101` for this exercise.\n",
    "\n",
    "Create a spark data frame that contains your favorite programming languages.\n",
    "\n",
    "- Create a dataframe with one column named `language`\n",
    "> Hint: Start with a pandas dataframe. Maybe use a dictionary?\n",
    "- View the schema of the dataframe\n",
    "- Output the shape of the dataframe\n",
    "- Show the first 5 records in the dataframe\n",
    "\n",
    "# ------------------------------------------------------------------------"
   ]
  },
  {
   "cell_type": "markdown",
   "id": "8052ef2c",
   "metadata": {},
   "source": [
    "Create a dataframe with one column named `language`"
   ]
  },
  {
   "cell_type": "code",
   "execution_count": 3,
   "id": "ecd960c1",
   "metadata": {},
   "outputs": [
    {
     "data": {
      "text/html": [
       "<div>\n",
       "<style scoped>\n",
       "    .dataframe tbody tr th:only-of-type {\n",
       "        vertical-align: middle;\n",
       "    }\n",
       "\n",
       "    .dataframe tbody tr th {\n",
       "        vertical-align: top;\n",
       "    }\n",
       "\n",
       "    .dataframe thead th {\n",
       "        text-align: right;\n",
       "    }\n",
       "</style>\n",
       "<table border=\"1\" class=\"dataframe\">\n",
       "  <thead>\n",
       "    <tr style=\"text-align: right;\">\n",
       "      <th></th>\n",
       "      <th>language</th>\n",
       "      <th>studied</th>\n",
       "    </tr>\n",
       "  </thead>\n",
       "  <tbody>\n",
       "    <tr>\n",
       "      <th>0</th>\n",
       "      <td>python</td>\n",
       "      <td>yes</td>\n",
       "    </tr>\n",
       "    <tr>\n",
       "      <th>1</th>\n",
       "      <td>java</td>\n",
       "      <td>no</td>\n",
       "    </tr>\n",
       "    <tr>\n",
       "      <th>2</th>\n",
       "      <td>html</td>\n",
       "      <td>no</td>\n",
       "    </tr>\n",
       "    <tr>\n",
       "      <th>3</th>\n",
       "      <td>c</td>\n",
       "      <td>no</td>\n",
       "    </tr>\n",
       "    <tr>\n",
       "      <th>4</th>\n",
       "      <td>r</td>\n",
       "      <td>no</td>\n",
       "    </tr>\n",
       "    <tr>\n",
       "      <th>5</th>\n",
       "      <td>php</td>\n",
       "      <td>no</td>\n",
       "    </tr>\n",
       "    <tr>\n",
       "      <th>6</th>\n",
       "      <td>scala</td>\n",
       "      <td>no</td>\n",
       "    </tr>\n",
       "  </tbody>\n",
       "</table>\n",
       "</div>"
      ],
      "text/plain": [
       "  language studied\n",
       "0   python     yes\n",
       "1     java      no\n",
       "2     html      no\n",
       "3        c      no\n",
       "4        r      no\n",
       "5      php      no\n",
       "6    scala      no"
      ]
     },
     "execution_count": 3,
     "metadata": {},
     "output_type": "execute_result"
    }
   ],
   "source": [
    "# create pandas dataframe\n",
    "languages = pd.DataFrame(dict(language = ['python', 'java', 'html', 'c', 'r', 'php', 'scala'],\n",
    "                            studied = ['yes', 'no', 'no', 'no', 'no', 'no', 'no'])\n",
    "                        )\n",
    "# a look at the dataframe\n",
    "languages"
   ]
  },
  {
   "cell_type": "code",
   "execution_count": 4,
   "id": "8c355bce",
   "metadata": {},
   "outputs": [
    {
     "data": {
      "text/plain": [
       "DataFrame[language: string, studied: string]"
      ]
     },
     "execution_count": 4,
     "metadata": {},
     "output_type": "execute_result"
    }
   ],
   "source": [
    "# create spark dataframe from pandas dataframe\n",
    "df = spark.createDataFrame(languages)\n",
    "\n",
    "# view dataframe columns and datatypes\n",
    "df"
   ]
  },
  {
   "cell_type": "markdown",
   "id": "f9b9ced3",
   "metadata": {},
   "source": [
    "View the schema of the dataframe"
   ]
  },
  {
   "cell_type": "code",
   "execution_count": 5,
   "id": "027acdd8",
   "metadata": {},
   "outputs": [
    {
     "name": "stdout",
     "output_type": "stream",
     "text": [
      "root\n",
      " |-- language: string (nullable = true)\n",
      " |-- studied: string (nullable = true)\n",
      "\n"
     ]
    }
   ],
   "source": [
    "# view dataframe schema\n",
    "df.printSchema()"
   ]
  },
  {
   "cell_type": "markdown",
   "id": "20582032",
   "metadata": {},
   "source": [
    "Ouput the shape of the dataframe"
   ]
  },
  {
   "cell_type": "code",
   "execution_count": 6,
   "id": "a00c56d6",
   "metadata": {},
   "outputs": [
    {
     "name": "stdout",
     "output_type": "stream",
     "text": [
      "DataFrame shape:  7  x  2\n"
     ]
    }
   ],
   "source": [
    "print('DataFrame shape: ', df.count(), ' x ', len(df.columns))"
   ]
  },
  {
   "cell_type": "markdown",
   "id": "5b1a2a37",
   "metadata": {},
   "source": [
    "Show the first five records in the dataframe"
   ]
  },
  {
   "cell_type": "code",
   "execution_count": 7,
   "id": "fb6a73b4",
   "metadata": {},
   "outputs": [
    {
     "name": "stdout",
     "output_type": "stream",
     "text": [
      "+--------+-------+\n",
      "|language|studied|\n",
      "+--------+-------+\n",
      "|  python|    yes|\n",
      "|    java|     no|\n",
      "|    html|     no|\n",
      "|       c|     no|\n",
      "|       r|     no|\n",
      "+--------+-------+\n",
      "only showing top 5 rows\n",
      "\n"
     ]
    }
   ],
   "source": [
    "# show first five records of dataframe\n",
    "df.show(5)"
   ]
  },
  {
   "cell_type": "markdown",
   "id": "6be8b72a",
   "metadata": {},
   "source": [
    "# ------------------------------------------------------------------------\n",
    "## Exercise 2:\n",
    "\n",
    "Load the `mpg` dataset as a spark dataframe.\n",
    "\n",
    "a. Create 1 column of output that contains a message like the one below for each record:\n",
    "\n",
    "    The 1999 audi a4 has a 4 cylinder engine.\n",
    "\n",
    "> Hint: You will need to concatenate values that already exist in the data with string literals\n",
    "\n",
    "b. Transform the trans column so that it only contains either manual or auto.\n",
    "\n",
    "> Hint: Consider spark string methods and `when().otherwise()` chaining\n",
    "# ------------------------------------------------------------------------"
   ]
  },
  {
   "cell_type": "code",
   "execution_count": 8,
   "id": "a283c5ad",
   "metadata": {},
   "outputs": [
    {
     "name": "stdout",
     "output_type": "stream",
     "text": [
      "+------------+------------------+-----+----+---+----------+---+---+---+---+-------+\n",
      "|manufacturer|             model|displ|year|cyl|     trans|drv|cty|hwy| fl|  class|\n",
      "+------------+------------------+-----+----+---+----------+---+---+---+---+-------+\n",
      "|        audi|                a4|  1.8|1999|  4|  auto(l5)|  f| 18| 29|  p|compact|\n",
      "|        audi|                a4|  1.8|1999|  4|manual(m5)|  f| 21| 29|  p|compact|\n",
      "|        audi|                a4|  2.0|2008|  4|manual(m6)|  f| 20| 31|  p|compact|\n",
      "|        audi|                a4|  2.0|2008|  4|  auto(av)|  f| 21| 30|  p|compact|\n",
      "|        audi|                a4|  2.8|1999|  6|  auto(l5)|  f| 16| 26|  p|compact|\n",
      "|        audi|                a4|  2.8|1999|  6|manual(m5)|  f| 18| 26|  p|compact|\n",
      "|        audi|                a4|  3.1|2008|  6|  auto(av)|  f| 18| 27|  p|compact|\n",
      "|        audi|        a4 quattro|  1.8|1999|  4|manual(m5)|  4| 18| 26|  p|compact|\n",
      "|        audi|        a4 quattro|  1.8|1999|  4|  auto(l5)|  4| 16| 25|  p|compact|\n",
      "|        audi|        a4 quattro|  2.0|2008|  4|manual(m6)|  4| 20| 28|  p|compact|\n",
      "|        audi|        a4 quattro|  2.0|2008|  4|  auto(s6)|  4| 19| 27|  p|compact|\n",
      "|        audi|        a4 quattro|  2.8|1999|  6|  auto(l5)|  4| 15| 25|  p|compact|\n",
      "|        audi|        a4 quattro|  2.8|1999|  6|manual(m5)|  4| 17| 25|  p|compact|\n",
      "|        audi|        a4 quattro|  3.1|2008|  6|  auto(s6)|  4| 17| 25|  p|compact|\n",
      "|        audi|        a4 quattro|  3.1|2008|  6|manual(m6)|  4| 15| 25|  p|compact|\n",
      "|        audi|        a6 quattro|  2.8|1999|  6|  auto(l5)|  4| 15| 24|  p|midsize|\n",
      "|        audi|        a6 quattro|  3.1|2008|  6|  auto(s6)|  4| 17| 25|  p|midsize|\n",
      "|        audi|        a6 quattro|  4.2|2008|  8|  auto(s6)|  4| 16| 23|  p|midsize|\n",
      "|   chevrolet|c1500 suburban 2wd|  5.3|2008|  8|  auto(l4)|  r| 14| 20|  r|    suv|\n",
      "|   chevrolet|c1500 suburban 2wd|  5.3|2008|  8|  auto(l4)|  r| 11| 15|  e|    suv|\n",
      "+------------+------------------+-----+----+---+----------+---+---+---+---+-------+\n",
      "only showing top 20 rows\n",
      "\n"
     ]
    }
   ],
   "source": [
    "from pydataset import data\n",
    "mpg = spark.createDataFrame(data('mpg'))\n",
    "mpg.show()"
   ]
  },
  {
   "cell_type": "code",
   "execution_count": 9,
   "id": "7493fbf9",
   "metadata": {},
   "outputs": [
    {
     "name": "stdout",
     "output_type": "stream",
     "text": [
      "root\n",
      " |-- manufacturer: string (nullable = true)\n",
      " |-- model: string (nullable = true)\n",
      " |-- displ: double (nullable = true)\n",
      " |-- year: long (nullable = true)\n",
      " |-- cyl: long (nullable = true)\n",
      " |-- trans: string (nullable = true)\n",
      " |-- drv: string (nullable = true)\n",
      " |-- cty: long (nullable = true)\n",
      " |-- hwy: long (nullable = true)\n",
      " |-- fl: string (nullable = true)\n",
      " |-- class: string (nullable = true)\n",
      "\n"
     ]
    }
   ],
   "source": [
    "# view columns and data types\n",
    "mpg.printSchema()"
   ]
  },
  {
   "cell_type": "markdown",
   "id": "f7eccd8c",
   "metadata": {},
   "source": [
    "a. Create 1 column of output that contains a message like the one below for each record:\n",
    "\n",
    "    The 1999 audi a4 has a 4 cylinder engine."
   ]
  },
  {
   "cell_type": "code",
   "execution_count": 10,
   "id": "17f6e190",
   "metadata": {},
   "outputs": [
    {
     "name": "stdout",
     "output_type": "stream",
     "text": [
      "+-------------------------------------------------+\n",
      "|summary_description                              |\n",
      "+-------------------------------------------------+\n",
      "|The 1999 audi a4 has a 4 cylinder engine.        |\n",
      "|The 1999 audi a4 has a 4 cylinder engine.        |\n",
      "|The 2008 audi a4 has a 4 cylinder engine.        |\n",
      "|The 2008 audi a4 has a 4 cylinder engine.        |\n",
      "|The 1999 audi a4 has a 6 cylinder engine.        |\n",
      "|The 1999 audi a4 has a 6 cylinder engine.        |\n",
      "|The 2008 audi a4 has a 6 cylinder engine.        |\n",
      "|The 1999 audi a4 quattro has a 4 cylinder engine.|\n",
      "|The 1999 audi a4 quattro has a 4 cylinder engine.|\n",
      "|The 2008 audi a4 quattro has a 4 cylinder engine.|\n",
      "|The 2008 audi a4 quattro has a 4 cylinder engine.|\n",
      "+-------------------------------------------------+\n",
      "only showing top 11 rows\n",
      "\n"
     ]
    }
   ],
   "source": [
    "# write out pyspark concatenation of literal (lit) strings and column (col) values\n",
    "mpg.select(concat(lit('The '),\n",
    "                  col('year'),\n",
    "                  lit(' '),\n",
    "                  col('manufacturer'),\n",
    "                  lit(' '),\n",
    "                  col('model'),\n",
    "                  lit(' has a '), \n",
    "                  col('cyl'),\n",
    "                  lit(' cylinder engine.')\n",
    "                 ).alias('summary_description')\n",
    "          ).\\\n",
    "show(11, truncate = False)"
   ]
  },
  {
   "cell_type": "markdown",
   "id": "75ae6cca",
   "metadata": {},
   "source": [
    "b. Transform the trans column so that it only contains either manual or auto.\n",
    "\n",
    "> Hint: Consider spark string methods and `when().otherwise()` chaining"
   ]
  },
  {
   "cell_type": "code",
   "execution_count": 11,
   "id": "85676d83",
   "metadata": {},
   "outputs": [
    {
     "name": "stdout",
     "output_type": "stream",
     "text": [
      "+------------+-----+-----+----+---+----------+---+---+---+---+-------+\n",
      "|manufacturer|model|displ|year|cyl|     trans|drv|cty|hwy| fl|  class|\n",
      "+------------+-----+-----+----+---+----------+---+---+---+---+-------+\n",
      "|        audi|   a4|  1.8|1999|  4|  auto(l5)|  f| 18| 29|  p|compact|\n",
      "|        audi|   a4|  1.8|1999|  4|manual(m5)|  f| 21| 29|  p|compact|\n",
      "+------------+-----+-----+----+---+----------+---+---+---+---+-------+\n",
      "only showing top 2 rows\n",
      "\n"
     ]
    }
   ],
   "source": [
    "# review dataframe\n",
    "mpg.show(2)"
   ]
  },
  {
   "cell_type": "code",
   "execution_count": 12,
   "id": "1c9c1629",
   "metadata": {},
   "outputs": [],
   "source": [
    "# register mpg table with spark\n",
    "mpg.createOrReplaceTempView('mpg')"
   ]
  },
  {
   "cell_type": "code",
   "execution_count": 13,
   "id": "004a7c0d",
   "metadata": {},
   "outputs": [
    {
     "name": "stdout",
     "output_type": "stream",
     "text": [
      "+------------+------------------+-----+---+-----+---+---+---+---+-------+\n",
      "|manufacturer|             model|displ|cyl|trans|drv|cty|hwy| fl|  class|\n",
      "+------------+------------------+-----+---+-----+---+---+---+---+-------+\n",
      "|        audi|                a4|  1.8|  4| auto|  f| 18| 29|  p|compact|\n",
      "|        audi|                a4|  1.8|  4| manu|  f| 21| 29|  p|compact|\n",
      "|        audi|                a4|  2.0|  4| manu|  f| 20| 31|  p|compact|\n",
      "|        audi|                a4|  2.0|  4| auto|  f| 21| 30|  p|compact|\n",
      "|        audi|                a4|  2.8|  6| auto|  f| 16| 26|  p|compact|\n",
      "|        audi|                a4|  2.8|  6| manu|  f| 18| 26|  p|compact|\n",
      "|        audi|                a4|  3.1|  6| auto|  f| 18| 27|  p|compact|\n",
      "|        audi|        a4 quattro|  1.8|  4| manu|  4| 18| 26|  p|compact|\n",
      "|        audi|        a4 quattro|  1.8|  4| auto|  4| 16| 25|  p|compact|\n",
      "|        audi|        a4 quattro|  2.0|  4| manu|  4| 20| 28|  p|compact|\n",
      "|        audi|        a4 quattro|  2.0|  4| auto|  4| 19| 27|  p|compact|\n",
      "|        audi|        a4 quattro|  2.8|  6| auto|  4| 15| 25|  p|compact|\n",
      "|        audi|        a4 quattro|  2.8|  6| manu|  4| 17| 25|  p|compact|\n",
      "|        audi|        a4 quattro|  3.1|  6| auto|  4| 17| 25|  p|compact|\n",
      "|        audi|        a4 quattro|  3.1|  6| manu|  4| 15| 25|  p|compact|\n",
      "|        audi|        a6 quattro|  2.8|  6| auto|  4| 15| 24|  p|midsize|\n",
      "|        audi|        a6 quattro|  3.1|  6| auto|  4| 17| 25|  p|midsize|\n",
      "|        audi|        a6 quattro|  4.2|  8| auto|  4| 16| 23|  p|midsize|\n",
      "|   chevrolet|c1500 suburban 2wd|  5.3|  8| auto|  r| 14| 20|  r|    suv|\n",
      "|   chevrolet|c1500 suburban 2wd|  5.3|  8| auto|  r| 11| 15|  e|    suv|\n",
      "+------------+------------------+-----+---+-----+---+---+---+---+-------+\n",
      "only showing top 20 rows\n",
      "\n"
     ]
    }
   ],
   "source": [
    "# create mysql query to grab columns to fit needs\n",
    "mpg = spark.sql(\n",
    "'''\n",
    "SELECT manufacturer, model, displ, cyl, LEFT(trans, 4) as trans, drv, cty, hwy, fl, class\n",
    "FROM mpg\n",
    "''')\n",
    "mpg.show()"
   ]
  },
  {
   "cell_type": "code",
   "execution_count": 14,
   "id": "732ca86c",
   "metadata": {},
   "outputs": [
    {
     "name": "stdout",
     "output_type": "stream",
     "text": [
      "+------------+------------------+-----+---+-----+---+---+---+---+-------+\n",
      "|manufacturer|             model|displ|cyl|trans|drv|cty|hwy| fl|  class|\n",
      "+------------+------------------+-----+---+-----+---+---+---+---+-------+\n",
      "|        audi|                a4|  1.8|  4| auto|  f| 18| 29|  p|compact|\n",
      "|        audi|                a4|  1.8|  4| manu|  f| 21| 29|  p|compact|\n",
      "|        audi|                a4|  2.0|  4| manu|  f| 20| 31|  p|compact|\n",
      "|        audi|                a4|  2.0|  4| auto|  f| 21| 30|  p|compact|\n",
      "|        audi|                a4|  2.8|  6| auto|  f| 16| 26|  p|compact|\n",
      "|        audi|                a4|  2.8|  6| manu|  f| 18| 26|  p|compact|\n",
      "|        audi|                a4|  3.1|  6| auto|  f| 18| 27|  p|compact|\n",
      "|        audi|        a4 quattro|  1.8|  4| manu|  4| 18| 26|  p|compact|\n",
      "|        audi|        a4 quattro|  1.8|  4| auto|  4| 16| 25|  p|compact|\n",
      "|        audi|        a4 quattro|  2.0|  4| manu|  4| 20| 28|  p|compact|\n",
      "|        audi|        a4 quattro|  2.0|  4| auto|  4| 19| 27|  p|compact|\n",
      "|        audi|        a4 quattro|  2.8|  6| auto|  4| 15| 25|  p|compact|\n",
      "|        audi|        a4 quattro|  2.8|  6| manu|  4| 17| 25|  p|compact|\n",
      "|        audi|        a4 quattro|  3.1|  6| auto|  4| 17| 25|  p|compact|\n",
      "|        audi|        a4 quattro|  3.1|  6| manu|  4| 15| 25|  p|compact|\n",
      "|        audi|        a6 quattro|  2.8|  6| auto|  4| 15| 24|  p|midsize|\n",
      "|        audi|        a6 quattro|  3.1|  6| auto|  4| 17| 25|  p|midsize|\n",
      "|        audi|        a6 quattro|  4.2|  8| auto|  4| 16| 23|  p|midsize|\n",
      "|   chevrolet|c1500 suburban 2wd|  5.3|  8| auto|  r| 14| 20|  r|    suv|\n",
      "|   chevrolet|c1500 suburban 2wd|  5.3|  8| auto|  r| 11| 15|  e|    suv|\n",
      "+------------+------------------+-----+---+-----+---+---+---+---+-------+\n",
      "only showing top 20 rows\n",
      "\n"
     ]
    }
   ],
   "source": [
    "# test functionality\n",
    "mpg.select(col('*')).show()"
   ]
  },
  {
   "cell_type": "code",
   "execution_count": 15,
   "id": "6765cfe6",
   "metadata": {
    "scrolled": false
   },
   "outputs": [
    {
     "name": "stdout",
     "output_type": "stream",
     "text": [
      "+------+\n",
      "| trans|\n",
      "+------+\n",
      "|  auto|\n",
      "|manual|\n",
      "|manual|\n",
      "|  auto|\n",
      "|  auto|\n",
      "|manual|\n",
      "|  auto|\n",
      "|manual|\n",
      "|  auto|\n",
      "|manual|\n",
      "|  auto|\n",
      "|  auto|\n",
      "|manual|\n",
      "|  auto|\n",
      "|manual|\n",
      "|  auto|\n",
      "|  auto|\n",
      "|  auto|\n",
      "|  auto|\n",
      "|  auto|\n",
      "+------+\n",
      "only showing top 20 rows\n",
      "\n"
     ]
    }
   ],
   "source": [
    "# select trans column, and an aliased column of transmission, showing only 'automatic' or 'manual'\n",
    "mpg.select(when(mpg.trans == 'auto', 'auto')\n",
    "           .otherwise('manual')\n",
    "           .alias('trans')\n",
    "          )\\\n",
    ".show()"
   ]
  },
  {
   "cell_type": "code",
   "execution_count": 16,
   "id": "32ee4631",
   "metadata": {},
   "outputs": [],
   "source": [
    "# pull original complete table\n",
    "mpg = spark.createDataFrame(data('mpg'))"
   ]
  },
  {
   "cell_type": "code",
   "execution_count": 17,
   "id": "1a59bd84",
   "metadata": {},
   "outputs": [
    {
     "name": "stdout",
     "output_type": "stream",
     "text": [
      "+----------+------------+\n",
      "|     trans|transmission|\n",
      "+----------+------------+\n",
      "|  auto(l5)|   automatic|\n",
      "|manual(m5)|      manual|\n",
      "|manual(m6)|      manual|\n",
      "|  auto(av)|   automatic|\n",
      "|  auto(l5)|   automatic|\n",
      "|manual(m5)|      manual|\n",
      "|  auto(av)|   automatic|\n",
      "|manual(m5)|      manual|\n",
      "|  auto(l5)|   automatic|\n",
      "|manual(m6)|      manual|\n",
      "|  auto(s6)|   automatic|\n",
      "|  auto(l5)|   automatic|\n",
      "|manual(m5)|      manual|\n",
      "|  auto(s6)|   automatic|\n",
      "|manual(m6)|      manual|\n",
      "|  auto(l5)|   automatic|\n",
      "|  auto(s6)|   automatic|\n",
      "|  auto(s6)|   automatic|\n",
      "|  auto(l4)|   automatic|\n",
      "|  auto(l4)|   automatic|\n",
      "+----------+------------+\n",
      "only showing top 20 rows\n",
      "\n"
     ]
    }
   ],
   "source": [
    "# ALTERNATE SOLUTION\n",
    "mpg.select(mpg.trans,\n",
    "           when(length(mpg.trans) < 10, 'automatic')\n",
    "           .otherwise('manual')\n",
    "           .alias('transmission')\n",
    "          )\\\n",
    ".show()"
   ]
  },
  {
   "cell_type": "code",
   "execution_count": 18,
   "id": "85c12d01",
   "metadata": {},
   "outputs": [
    {
     "name": "stdout",
     "output_type": "stream",
     "text": [
      "+------------+------------------+-----+---+------------+---+---+---+---+-------+\n",
      "|manufacturer|             model|displ|cyl|transmission|drv|cty|hwy| fl|  class|\n",
      "+------------+------------------+-----+---+------------+---+---+---+---+-------+\n",
      "|        audi|                a4|  1.8|  4|        auto|  f| 18| 29|  p|compact|\n",
      "|        audi|                a4|  1.8|  4|      manual|  f| 21| 29|  p|compact|\n",
      "|        audi|                a4|  2.0|  4|      manual|  f| 20| 31|  p|compact|\n",
      "|        audi|                a4|  2.0|  4|        auto|  f| 21| 30|  p|compact|\n",
      "|        audi|                a4|  2.8|  6|        auto|  f| 16| 26|  p|compact|\n",
      "|        audi|                a4|  2.8|  6|      manual|  f| 18| 26|  p|compact|\n",
      "|        audi|                a4|  3.1|  6|        auto|  f| 18| 27|  p|compact|\n",
      "|        audi|        a4 quattro|  1.8|  4|      manual|  4| 18| 26|  p|compact|\n",
      "|        audi|        a4 quattro|  1.8|  4|        auto|  4| 16| 25|  p|compact|\n",
      "|        audi|        a4 quattro|  2.0|  4|      manual|  4| 20| 28|  p|compact|\n",
      "|        audi|        a4 quattro|  2.0|  4|        auto|  4| 19| 27|  p|compact|\n",
      "|        audi|        a4 quattro|  2.8|  6|        auto|  4| 15| 25|  p|compact|\n",
      "|        audi|        a4 quattro|  2.8|  6|      manual|  4| 17| 25|  p|compact|\n",
      "|        audi|        a4 quattro|  3.1|  6|        auto|  4| 17| 25|  p|compact|\n",
      "|        audi|        a4 quattro|  3.1|  6|      manual|  4| 15| 25|  p|compact|\n",
      "|        audi|        a6 quattro|  2.8|  6|        auto|  4| 15| 24|  p|midsize|\n",
      "|        audi|        a6 quattro|  3.1|  6|        auto|  4| 17| 25|  p|midsize|\n",
      "|        audi|        a6 quattro|  4.2|  8|        auto|  4| 16| 23|  p|midsize|\n",
      "|   chevrolet|c1500 suburban 2wd|  5.3|  8|        auto|  r| 14| 20|  r|    suv|\n",
      "|   chevrolet|c1500 suburban 2wd|  5.3|  8|        auto|  r| 11| 15|  e|    suv|\n",
      "+------------+------------------+-----+---+------------+---+---+---+---+-------+\n",
      "only showing top 20 rows\n",
      "\n"
     ]
    }
   ],
   "source": [
    "# ALTERNATE SOLUTION ('transform' the trans column)\n",
    "mpg.select(mpg.manufacturer,\n",
    "           mpg.model,\n",
    "           mpg.displ,\n",
    "           mpg.cyl,\n",
    "           when(length(mpg.trans) < 10, 'auto')\n",
    "           .otherwise('manual')\n",
    "           .alias('transmission'),\n",
    "           mpg.drv,\n",
    "           mpg.cty,\n",
    "           mpg.hwy,\n",
    "           mpg.fl,\n",
    "           col('class')\n",
    "          )\\\n",
    ".show()"
   ]
  },
  {
   "cell_type": "markdown",
   "id": "0fb9313f",
   "metadata": {},
   "source": [
    "# ------------------------------------------------------------------------\n",
    "## Exercise 3: \n",
    "\n",
    "Load the `tips` dataset as a spark dataframe.\n",
    "\n",
    "a. What percentage of observations are smokers?\n",
    "> Hint: `.groupBy()` and `.withColumn()` are useful functions here\n",
    "\n",
    "b. Create a column that contains the tip percentage\n",
    "> Hint: `.withColumn()` is useful here\n",
    "\n",
    "c. Calculate the average tip percentage for each combination of sex and smoker.\n",
    "> Hint: Chain additional functions off the answer to part b \n",
    "\n",
    "# ------------------------------------------------------------------------"
   ]
  },
  {
   "cell_type": "code",
   "execution_count": null,
   "id": "442fdb02",
   "metadata": {},
   "outputs": [],
   "source": []
  },
  {
   "cell_type": "code",
   "execution_count": null,
   "id": "40c50b1c",
   "metadata": {},
   "outputs": [],
   "source": []
  },
  {
   "cell_type": "code",
   "execution_count": null,
   "id": "b7d29765",
   "metadata": {},
   "outputs": [],
   "source": []
  },
  {
   "cell_type": "code",
   "execution_count": null,
   "id": "7fbd00c4",
   "metadata": {},
   "outputs": [],
   "source": []
  },
  {
   "cell_type": "markdown",
   "id": "49b83b8f",
   "metadata": {},
   "source": [
    "# ------------------------------------------------------------------------\n",
    "## Exercise 4:\n",
    "\n",
    "Use the seattle weather dataset referenced in the lesson to answer the questions below.\n",
    "\n",
    "- Convert the temperatures to fahrenheit.\n",
    "- Which month has the most rain, on average?\n",
    "- Which year was the windiest?\n",
    "- What is the most frequent type of weather in January?\n",
    "- What is the average high and low temperature on sunny days in July in 2013 and 2014?\n",
    "- What percentage of days were rainy in q3 of 2015?\n",
    "- For each year, find what percentage of days it rained (had non-zero precipitation)."
   ]
  },
  {
   "cell_type": "code",
   "execution_count": 19,
   "id": "9b149dcc",
   "metadata": {},
   "outputs": [
    {
     "name": "stdout",
     "output_type": "stream",
     "text": [
      "+----------+-------------+--------+--------+----+-------+\n",
      "|      date|precipitation|temp_max|temp_min|wind|weather|\n",
      "+----------+-------------+--------+--------+----+-------+\n",
      "|2012-01-01|          0.0|    12.8|     5.0| 4.7|drizzle|\n",
      "|2012-01-02|         10.9|    10.6|     2.8| 4.5|   rain|\n",
      "|2012-01-03|          0.8|    11.7|     7.2| 2.3|   rain|\n",
      "|2012-01-04|         20.3|    12.2|     5.6| 4.7|   rain|\n",
      "|2012-01-05|          1.3|     8.9|     2.8| 6.1|   rain|\n",
      "|2012-01-06|          2.5|     4.4|     2.2| 2.2|   rain|\n",
      "|2012-01-07|          0.0|     7.2|     2.8| 2.3|   rain|\n",
      "|2012-01-08|          0.0|    10.0|     2.8| 2.0|    sun|\n",
      "|2012-01-09|          4.3|     9.4|     5.0| 3.4|   rain|\n",
      "|2012-01-10|          1.0|     6.1|     0.6| 3.4|   rain|\n",
      "|2012-01-11|          0.0|     6.1|    -1.1| 5.1|    sun|\n",
      "|2012-01-12|          0.0|     6.1|    -1.7| 1.9|    sun|\n",
      "|2012-01-13|          0.0|     5.0|    -2.8| 1.3|    sun|\n",
      "|2012-01-14|          4.1|     4.4|     0.6| 5.3|   snow|\n",
      "|2012-01-15|          5.3|     1.1|    -3.3| 3.2|   snow|\n",
      "|2012-01-16|          2.5|     1.7|    -2.8| 5.0|   snow|\n",
      "|2012-01-17|          8.1|     3.3|     0.0| 5.6|   snow|\n",
      "|2012-01-18|         19.8|     0.0|    -2.8| 5.0|   snow|\n",
      "|2012-01-19|         15.2|    -1.1|    -2.8| 1.6|   snow|\n",
      "|2012-01-20|         13.5|     7.2|    -1.1| 2.3|   snow|\n",
      "+----------+-------------+--------+--------+----+-------+\n",
      "only showing top 20 rows\n",
      "\n"
     ]
    }
   ],
   "source": [
    "# import data\n",
    "from vega_datasets import data\n",
    "\n",
    "# get data into pandas dataframe and assign new column for string-type dates\n",
    "weather = data.seattle_weather().assign(date = lambda df: df.date.astype(str))\n",
    "\n",
    "# get pandas dataframe into spark dataframe\n",
    "weather = spark.createDataFrame(weather)\n",
    "\n",
    "# view dataframe\n",
    "weather.show()"
   ]
  },
  {
   "cell_type": "code",
   "execution_count": null,
   "id": "a1ae54ce",
   "metadata": {},
   "outputs": [],
   "source": []
  }
 ],
 "metadata": {
  "kernelspec": {
   "display_name": "Python 3",
   "language": "python",
   "name": "python3"
  },
  "language_info": {
   "codemirror_mode": {
    "name": "ipython",
    "version": 3
   },
   "file_extension": ".py",
   "mimetype": "text/x-python",
   "name": "python",
   "nbconvert_exporter": "python",
   "pygments_lexer": "ipython3",
   "version": "3.8.8"
  }
 },
 "nbformat": 4,
 "nbformat_minor": 5
}
